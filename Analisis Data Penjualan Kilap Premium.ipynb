{
 "cells": [
  {
   "cell_type": "markdown",
   "metadata": {},
   "source": [
    "# **ANALISIS DATA KILAP PREMIUM**"
   ]
  },
  {
   "cell_type": "markdown",
   "metadata": {},
   "source": [
    "oleh : Muhammad Ilham Naufal"
   ]
  },
  {
   "cell_type": "markdown",
   "metadata": {},
   "source": [
    "# **Latar Belakang**"
   ]
  },
  {
   "cell_type": "markdown",
   "metadata": {},
   "source": [
    "- Kilap Premium merupakan Perusahaan yang bergerak di bidang FMCG. Kilap Premium menghadirkan produk berupa skincare untuk perawatan khusus untuk kendaraan bermotor, namun juga tersedia produk untuk perawatan mobil. Kilap Premium memiliki visi untuk menjadikan produk skincare motor dan helm terbesar di Asia serta misi untuk memberikan pelayanan yang tinggi dan nyaman kepada para pengendara motor. \n",
    "\n",
    "- Kilap Premium memiliki produk yang dapat dikategorikan sebagai berikut\n",
    "    1. Car Series\n",
    "        - Car Series merupakan produk yang disediakan oleh Kilap Premium untuk menyediakan perawatan serta kualitas dari mobil\n",
    "    2. Official Merchandise\n",
    "        - Merupakan produk khusus yang dikeluarkan oleh Kilap Premium untuk menambah aksesoris bagi pengendara motor\n",
    "    3. Helmet Care\n",
    "        - Helmet care merupakan kategori produk Kilap Premium yang bertujuan untuk memberikan perawatan dari kualitas helm motor yang dimiliki \n",
    "    4. Apparel Care\n",
    "        - Apparel care merupakan produk yang menawarkan perawatan untuk pakaian yang dikenakan oleh pengendara motor\n",
    "    5. Motorcycle Care\n",
    "        - Motorcycle care merupakan kategori produk utama yang ditawarkan oleh Kilap Premium. Kategori ini menawarkan produk untuk menjaga, merawat, dan memastikan kendaraan bermotor tetap bersih dan berkualitas\n",
    "\n",
    "- Dalam portofolio ini saya akan memberikan analisis beserta insight terhadap data penjualan produk dari Kilap Premium. Tujuan analisis ini adalah untuk memberikan insight yang dapat diambil dari data agar insight tersebut dapat menjadi bahan masukan kepada petinggi Perusahaan dalam mencanangkan strategi penjualan di waktu mendatang."
   ]
  },
  {
   "cell_type": "markdown",
   "metadata": {},
   "source": [
    "# **Rumusan Masalah**"
   ]
  },
  {
   "cell_type": "markdown",
   "metadata": {},
   "source": [
    "Rumusan masalah yang akan dianalisa dalam penelitian ini dapat diuraikan sebagai berikut.\n",
    "\n",
    "**1. Performa Penjualan Produk**\n",
    "- Mengetahui bagaimana performa penjualan produk denggan melihat produk yang memiliki tingkat penjualan serta rating tertinggi dan begitupun sebaliknya terhadap produk yang memiliki tingkat penjualan serta rating terendah.\n",
    "\n",
    "**2. Performa Penjualan Berdasarkan Kategori**\n",
    "- Produk Kilap Premium terbagi berdasarkan kategori yang menyusunnya. Analisa tersebut bertujuan untuk mengetahui kategori produk manakah yang memiliki tingkat penjualan yang tinggi berdasarkan informasi jumlah terjual, rating, dan lainnya dari seluruh produk pada setiap kategori.\n",
    "\n",
    "**3. Analisa Korelasi**\n",
    "- Data penjualan produk dari Kilap Premium memiliki informasi yang terdiri dari harga produk, kategori produk, jumlah terjual, beserta rating dari setiap produk. Analisa tersebut bertujuan untuk mengetahui apakah terdapat korelasi / hubungan antar setiap fitur satu dengan fitur lainnya sehingga hasil korelasi tersebut dapat dijadikan rekomendasi bagi perusahaan untuk menentukkan fitur mana dapat dikolaborasikan serta ditingkatkan untuk meningkatkan penjualan dari setiap produk Kilap Premium.\n",
    "\n",
    "**4. Analisa Kompetitor**\n",
    "- Analisis persaingan adalah evaluasi yang membandingkan kinerja penjualan produk antara perusahaan yang menjual produk sejenis. Dalam konteks ini, kami akan membandingkan penjualan produk Kilap Premium dengan Mizu Shield. Tujuan dari analisis ini adalah untuk memberikan wawasan dan rekomendasi kepada perusahaan agar dapat meningkatkan daya saingnya di masa mendatang dengan pesaing lainnya.\n",
    "\n",
    "\n",
    "\n",
    "\n",
    "\n"
   ]
  },
  {
   "cell_type": "markdown",
   "metadata": {},
   "source": [
    "# **Sistematika Penelitian**"
   ]
  },
  {
   "cell_type": "markdown",
   "metadata": {},
   "source": [
    "Sistematika dalam penelitian ini dapat diuraikan sebagai berikut:\n",
    "\n",
    "**1. Data Understanding**\n",
    "\n",
    "- Data understanding merupakan tahap untuk mengetahui informasi yang terkandung di dalam dataset yang dimiliki, dalam hal ini adalah data penjualan produk Kilap Premium. Data understanding berisikan definisi dari setiap fitur yang dimiliki pada dataset\n",
    "\n",
    "**2. Data Cleaning**\n",
    "\n",
    "- Data cleaning merupakan tahap yang bertujuan untuk melakukan pembersihan terhadap isi, struktur, maupun distribusi dari data. Data yang tidak bersih dapat menganggu proses analisa ke depannya, terutama ketika melakukan analisa deskriptif statistik maupun korelasi. Data cleaning memiliki proses yang terkandung didalamnya yang dapat diuraikan sebagai berikut:\n",
    "    - Value exploration\n",
    "    - Missing value\n",
    "    - Duplicated data\n",
    "    - Data formatting\n",
    "    - Outliers\n",
    "\n",
    "**3. Data Exploration**\n",
    "\n",
    "- Data exploration merupakan tahap untuk melihat tampilan beserta struktur dari data. Dalam penelitian ini proses eksplorasi data yang akan dilakukan adalah melihat distribusi data dari kolom numerik\n",
    "\n",
    "**4. Data Analysis**\n",
    "\n",
    "- Data Analysis merupakan langkah utama yang ingin dicapai pada penelitian ini. Data analysis bertujuan untuk melakukan eksplorasi terhadap data agar dapat ditemukan insight beserta analisa yang dapat dibantu dengan visualisasi. Penarikan insight / analisa dari data dapat mendorong untuk memberikan rekomendasi terhadap perusahaan berdasarkan analisa yang telah dilakukan.\n",
    "\n",
    "**5. Analisa Kompetitor (Kilap Premium vs Mizu Shield)**\n",
    "\n",
    "- Analisa kompetitor merupakan sebuah analisa yang menghadirkan perbandingan performa penjualan produk antar sesama usaha yang menjual produk sejenis. Dalam hal ini kita akan membandingkan penjualan dari Kilap Premium itu sendiri dengan Mizu Shield. Hasil Analisa tersebut bertujuan untuk memberikan insight dan masukan terhadap Perusahaan agar dapat meningkatkan daya saing di waktu mendatang dengan kompetitor lainnya."
   ]
  },
  {
   "cell_type": "markdown",
   "metadata": {},
   "source": [
    "# **Data Understanding**\n",
    "\n"
   ]
  },
  {
   "cell_type": "markdown",
   "metadata": {},
   "source": [
    "Fitur dalam data penjualan produk Kilap Premium dapat diuraikan sebagai berikut."
   ]
  },
  {
   "cell_type": "markdown",
   "metadata": {},
   "source": [
    "| **Nama Kolom** | **Penjelasan**                                |\n",
    "| ---------------- | -------------------------------------------------------- |\n",
    "| Nama Produk       | Judul dari setiap produk Kilap Premium                 |\n",
    "| Kategori Produk     | Mengkategorikan produk berdasarkan jenisnya                     |\n",
    "| Harga Produk   | Menunjukkan nilai harga dari setiap produk dalam satuan IDR                 |\n",
    "| Jumlah Terjual     | Menampilkan jumlah pelanggan yang telah membeli setiap produk |\n",
    "| Rating | Penilaian yang diberikan oleh pelanggan yang telah membeli setiap produk             |\n"
   ]
  },
  {
   "cell_type": "markdown",
   "metadata": {},
   "source": [
    "# **Library**"
   ]
  },
  {
   "cell_type": "code",
   "execution_count": 1,
   "metadata": {},
   "outputs": [],
   "source": [
    "import pandas as pd\n",
    "import numpy as np\n",
    "import matplotlib.pyplot as plt\n",
    "import seaborn as sns"
   ]
  },
  {
   "cell_type": "markdown",
   "metadata": {},
   "source": [
    "# **Import Dataset**"
   ]
  },
  {
   "cell_type": "code",
   "execution_count": 2,
   "metadata": {},
   "outputs": [
    {
     "data": {
      "text/html": [
       "<div>\n",
       "<style scoped>\n",
       "    .dataframe tbody tr th:only-of-type {\n",
       "        vertical-align: middle;\n",
       "    }\n",
       "\n",
       "    .dataframe tbody tr th {\n",
       "        vertical-align: top;\n",
       "    }\n",
       "\n",
       "    .dataframe thead th {\n",
       "        text-align: right;\n",
       "    }\n",
       "</style>\n",
       "<table border=\"1\" class=\"dataframe\">\n",
       "  <thead>\n",
       "    <tr style=\"text-align: right;\">\n",
       "      <th></th>\n",
       "      <th>Nama Produk</th>\n",
       "      <th>Kategori Produk</th>\n",
       "      <th>Harga Produk</th>\n",
       "      <th>Jumlah Terjual</th>\n",
       "      <th>Rating</th>\n",
       "    </tr>\n",
       "  </thead>\n",
       "  <tbody>\n",
       "    <tr>\n",
       "      <th>0</th>\n",
       "      <td>Monsta Shine</td>\n",
       "      <td>Car Series</td>\n",
       "      <td>145.410</td>\n",
       "      <td>8.3</td>\n",
       "      <td>4.9</td>\n",
       "    </tr>\n",
       "    <tr>\n",
       "      <th>1</th>\n",
       "      <td>Glass Cleaner and Repellent</td>\n",
       "      <td>Car Series</td>\n",
       "      <td>84.878</td>\n",
       "      <td>150.0</td>\n",
       "      <td>4.9</td>\n",
       "    </tr>\n",
       "    <tr>\n",
       "      <th>2</th>\n",
       "      <td>Interior Detailer Cleaner and Protectant</td>\n",
       "      <td>Car Series</td>\n",
       "      <td>73.760</td>\n",
       "      <td>132.0</td>\n",
       "      <td>4.9</td>\n",
       "    </tr>\n",
       "    <tr>\n",
       "      <th>3</th>\n",
       "      <td>Purfress Hanging Car Perfume</td>\n",
       "      <td>Car Series</td>\n",
       "      <td>39.717</td>\n",
       "      <td>138.0</td>\n",
       "      <td>4.9</td>\n",
       "    </tr>\n",
       "    <tr>\n",
       "      <th>4</th>\n",
       "      <td>Keychain</td>\n",
       "      <td>Official Merchandise</td>\n",
       "      <td>8.381</td>\n",
       "      <td>303.0</td>\n",
       "      <td>4.9</td>\n",
       "    </tr>\n",
       "  </tbody>\n",
       "</table>\n",
       "</div>"
      ],
      "text/plain": [
       "                                Nama Produk       Kategori Produk  \\\n",
       "0                              Monsta Shine            Car Series   \n",
       "1               Glass Cleaner and Repellent            Car Series   \n",
       "2  Interior Detailer Cleaner and Protectant            Car Series   \n",
       "3              Purfress Hanging Car Perfume            Car Series   \n",
       "4                                 Keychain   Official Merchandise   \n",
       "\n",
       "   Harga Produk  Jumlah Terjual  Rating  \n",
       "0       145.410             8.3     4.9  \n",
       "1        84.878           150.0     4.9  \n",
       "2        73.760           132.0     4.9  \n",
       "3        39.717           138.0     4.9  \n",
       "4         8.381           303.0     4.9  "
      ]
     },
     "execution_count": 2,
     "metadata": {},
     "output_type": "execute_result"
    }
   ],
   "source": [
    "df = pd.read_csv('DataPenjualanShopee.csv', delimiter=';')\n",
    "df.head()"
   ]
  },
  {
   "cell_type": "markdown",
   "metadata": {},
   "source": [
    "Sumber : Shopee"
   ]
  },
  {
   "cell_type": "markdown",
   "metadata": {},
   "source": [
    "# **Data Cleaning**"
   ]
  },
  {
   "cell_type": "markdown",
   "metadata": {},
   "source": [
    "**Value Exploration**"
   ]
  },
  {
   "cell_type": "markdown",
   "metadata": {},
   "source": [
    "- Value exploration merupakan tahap untuk mengetahui value / nilai yang terkandung dari setiap kolom.\n",
    "- Tujuan value exploration adalah untuk mengetahui apakah value yang terdapat di setiap kolom sudah sesuai dengan data understanding yang telah dirumuskan sebelumnya. Seperti contoh kita memiliki kolom 'balance' yang menunjukkan saldo rekening dari seorang nasabah. Kemudian terdapat value yang bernilai negatif dari kolom 'balance' tersebut maka value tersebut merupakan value yang tidak valid karena tidak mungkin saldo dari seorang nasabah bernilai negatif.\n",
    "- Value yang tidak valid pada setiap kolom dapat diganti dengan value yang sesuai dengan data understanding"
   ]
  },
  {
   "cell_type": "markdown",
   "metadata": {},
   "source": [
    "Menampilkan seluruh value dari setiap kolom pada dataset"
   ]
  },
  {
   "cell_type": "code",
   "execution_count": 3,
   "metadata": {},
   "outputs": [
    {
     "data": {
      "text/html": [
       "<div>\n",
       "<style scoped>\n",
       "    .dataframe tbody tr th:only-of-type {\n",
       "        vertical-align: middle;\n",
       "    }\n",
       "\n",
       "    .dataframe tbody tr th {\n",
       "        vertical-align: top;\n",
       "    }\n",
       "\n",
       "    .dataframe thead th {\n",
       "        text-align: right;\n",
       "    }\n",
       "</style>\n",
       "<table border=\"1\" class=\"dataframe\">\n",
       "  <thead>\n",
       "    <tr style=\"text-align: right;\">\n",
       "      <th></th>\n",
       "      <th>Columns</th>\n",
       "      <th>Unique Count</th>\n",
       "      <th>Unique</th>\n",
       "    </tr>\n",
       "  </thead>\n",
       "  <tbody>\n",
       "    <tr>\n",
       "      <th>0</th>\n",
       "      <td>Nama Produk</td>\n",
       "      <td>48</td>\n",
       "      <td>[Monsta Shine, Glass Cleaner and Repellent, Interior Detailer Cleaner and Protectant, Purfress Hanging Car Perfume, Keychain , Sticker Pack V1, T-Shirt Basic Logo White, Ultimate Microfiber 400 gsm, Iridium Cleaner, Smells Good, Clear Vision, Paket Glossy (Monsta Shine 250 ml + Ultimate Microfiber 400 GSM), Helmet Care Package , Apparel and Shoes Cleaner, Monsta Shine I, Paket Cuci Motor, Waterspot Remover, Black Again, Swirl Remover, Drying Edgeless Microfiber, Matte Protection, STR Sticker and Tar Remover, Kilap Premium Kuas Pembersih Mesin Serbaguna, Ultimate Dressing, Tire and Trim Gel, Mini Series Package, Hyperwaz + Drying Microfiber, Applicator Pad, Sponge Wash, Hyperwaz, Engine Degreaser, Sikat Pembersih, Microfiber Package, Applicator Black Pad (Busa Poles Hitam), Lemon Waterless Wash Wax, Car Wash, Motor Mobil Waterless Detailer Multi Cleanser, Paket Doff (Matte Protection 20 ml + Ultimate Microfiber 400 GSM), Coating Applicator Pad, Paket Skincare Motor Baru, Lemon Waterless Wash Wax, Car Wash, Motor Mobil Waterless Detailer Multi Cleanser, Perawatan Kendaraan, Nitrile Glove, Engine Care Package, PULAU JAWA Chain Lube, Paket Perawatan Motor Lengkap Advance, Paket Perawatan Motor Basic, Mini Pouch, Suede Cloth, LUAR JAWA Chain Lube, Hampers Car Series Spesial Lebaran 2024]</td>\n",
       "    </tr>\n",
       "    <tr>\n",
       "      <th>1</th>\n",
       "      <td>Kategori Produk</td>\n",
       "      <td>6</td>\n",
       "      <td>[Car Series, Official Merchandise, Helmet Care, Apparel Care, Motorcycle Care, New Arrivals]</td>\n",
       "    </tr>\n",
       "    <tr>\n",
       "      <th>2</th>\n",
       "      <td>Harga Produk</td>\n",
       "      <td>45</td>\n",
       "      <td>[145.41, 84.878, 73.76, 39.717, 8.381, 20.194, 100.253, 25.09, 68.152, 50.079, 64.419, 107.129, 156.91, 56.005, 112.88, 26.936, 79.926, 61.543, 20.687, 50.391, 40.027, 4.465, 70.715, 65.958, 90.781, 91.739, 7.83, 17.021, 71.241, 38.715, 3.387, 8.966, 61.673, 106.81, 14.677, 305.5, 58.589, 5.038, 166.302, 50.343, 768.074, 320.5, 10.658, 5.106, 79.999]</td>\n",
       "    </tr>\n",
       "    <tr>\n",
       "      <th>3</th>\n",
       "      <td>Jumlah Terjual</td>\n",
       "      <td>39</td>\n",
       "      <td>[8.3, 150.0, 132.0, 138.0, 303.0, 112.0, 8.0, 10.0, 1.7, 3.4, 1.5, 3.0, 197.0, 4.0, 1.8, 2.6, 2.1, 716.0, 1.2, 319.0, 606.0, 1.9, 2.5, 2.7, 576.0, 1.6, 3.7, 2.3, 251.0, 339.0, 408.0, 288.0, 1.1, 46.0, 484.0, 614.0, 369.0, 50.0, 0.0]</td>\n",
       "    </tr>\n",
       "    <tr>\n",
       "      <th>4</th>\n",
       "      <td>Rating</td>\n",
       "      <td>5</td>\n",
       "      <td>[4.9, 5.0, 4.8, 4.7, 0.0]</td>\n",
       "    </tr>\n",
       "  </tbody>\n",
       "</table>\n",
       "</div>"
      ],
      "text/plain": [
       "           Columns  Unique Count  \\\n",
       "0      Nama Produk            48   \n",
       "1  Kategori Produk             6   \n",
       "2     Harga Produk            45   \n",
       "3   Jumlah Terjual            39   \n",
       "4           Rating             5   \n",
       "\n",
       "                                                                                                                                                                                                                                                                                                                                                                                                                                                                                                                                                                                                                                                                                                                                                                                                                                                                                                                                                                                                                                                                                                                                                                                                                                                                                                                                                    Unique  \n",
       "0  [Monsta Shine, Glass Cleaner and Repellent, Interior Detailer Cleaner and Protectant, Purfress Hanging Car Perfume, Keychain , Sticker Pack V1, T-Shirt Basic Logo White, Ultimate Microfiber 400 gsm, Iridium Cleaner, Smells Good, Clear Vision, Paket Glossy (Monsta Shine 250 ml + Ultimate Microfiber 400 GSM), Helmet Care Package , Apparel and Shoes Cleaner, Monsta Shine I, Paket Cuci Motor, Waterspot Remover, Black Again, Swirl Remover, Drying Edgeless Microfiber, Matte Protection, STR Sticker and Tar Remover, Kilap Premium Kuas Pembersih Mesin Serbaguna, Ultimate Dressing, Tire and Trim Gel, Mini Series Package, Hyperwaz + Drying Microfiber, Applicator Pad, Sponge Wash, Hyperwaz, Engine Degreaser, Sikat Pembersih, Microfiber Package, Applicator Black Pad (Busa Poles Hitam), Lemon Waterless Wash Wax, Car Wash, Motor Mobil Waterless Detailer Multi Cleanser, Paket Doff (Matte Protection 20 ml + Ultimate Microfiber 400 GSM), Coating Applicator Pad, Paket Skincare Motor Baru, Lemon Waterless Wash Wax, Car Wash, Motor Mobil Waterless Detailer Multi Cleanser, Perawatan Kendaraan, Nitrile Glove, Engine Care Package, PULAU JAWA Chain Lube, Paket Perawatan Motor Lengkap Advance, Paket Perawatan Motor Basic, Mini Pouch, Suede Cloth, LUAR JAWA Chain Lube, Hampers Car Series Spesial Lebaran 2024]  \n",
       "1                                                                                                                                                                                                                                                                                                                                                                                                                                                                                                                                                                                                                                                                                                                                                                                                                                                                                                                                                                                                                                                                                                                                                                                                                                                             [Car Series, Official Merchandise, Helmet Care, Apparel Care, Motorcycle Care, New Arrivals]  \n",
       "2                                                                                                                                                                                                                                                                                                                                                                                                                                                                                                                                                                                                                                                                                                                                                                                                                                                                                                                                                                                         [145.41, 84.878, 73.76, 39.717, 8.381, 20.194, 100.253, 25.09, 68.152, 50.079, 64.419, 107.129, 156.91, 56.005, 112.88, 26.936, 79.926, 61.543, 20.687, 50.391, 40.027, 4.465, 70.715, 65.958, 90.781, 91.739, 7.83, 17.021, 71.241, 38.715, 3.387, 8.966, 61.673, 106.81, 14.677, 305.5, 58.589, 5.038, 166.302, 50.343, 768.074, 320.5, 10.658, 5.106, 79.999]  \n",
       "3                                                                                                                                                                                                                                                                                                                                                                                                                                                                                                                                                                                                                                                                                                                                                                                                                                                                                                                                                                                                                                                                                                                 [8.3, 150.0, 132.0, 138.0, 303.0, 112.0, 8.0, 10.0, 1.7, 3.4, 1.5, 3.0, 197.0, 4.0, 1.8, 2.6, 2.1, 716.0, 1.2, 319.0, 606.0, 1.9, 2.5, 2.7, 576.0, 1.6, 3.7, 2.3, 251.0, 339.0, 408.0, 288.0, 1.1, 46.0, 484.0, 614.0, 369.0, 50.0, 0.0]  \n",
       "4                                                                                                                                                                                                                                                                                                                                                                                                                                                                                                                                                                                                                                                                                                                                                                                                                                                                                                                                                                                                                                                                                                                                                                                                                                                                                                                                [4.9, 5.0, 4.8, 4.7, 0.0]  "
      ]
     },
     "execution_count": 3,
     "metadata": {},
     "output_type": "execute_result"
    }
   ],
   "source": [
    "pd.set_option('display.max_rows', None)\n",
    "pd.set_option('display.max_columns', None)\n",
    "pd.set_option('display.max_colwidth', None) \n",
    "\n",
    "def unique_data(df):\n",
    "    \n",
    "    data_unique = pd.DataFrame()\n",
    "    data_unique['Columns'] = df.columns\n",
    "    data_unique['Unique Count'] = [df[col].nunique() for col in (df.columns)]\n",
    "    data_unique['Unique'] = [df[col].unique() for col in (df.columns)] \n",
    "    return data_unique\n",
    "\n",
    "unique_data(df)"
   ]
  },
  {
   "cell_type": "markdown",
   "metadata": {},
   "source": [
    "**Missing Value**|"
   ]
  },
  {
   "cell_type": "markdown",
   "metadata": {},
   "source": [
    "- Missing value merupakan nilai yang kosong pada sebuah dataset dari setiap kolom. Missing value ditandai dengan value NaN dan sebagainya. Kehadiran missing value dapat menganggu untuk melakukan proses analisa selanjutnya seperti analisa statistika deskriptif dan korelasi. \n",
    "- Missing value dapat terjadi pada kolom yang bersifat kategorik maupun numerik\n",
    "- Missing value dapat diatasi dengan berbagai metode bergantung dari tipe kolom yang memiliki missing value tersebut\n",
    "- Penanganan missing value pada kolom numerik dapat dilakukan dengan mengisi nilai missing value dengan nilai mean atau median. Pengisian missing value dengan nilai mean atau median bergantung dari distribusi data pada kolom yang memiliki missing value tersebut. Jika data terdistribusi normal kita bisa mengisi dengan nilai mean, namun sebaliknya jika data tidak terdistribusi normal maka kita dapat mengisi missing value dengan nilai median.\n",
    "- Penanganan missing value pada data kategorik tidak dapat dilakukan dengan nilai mean maupun median karena kita tidak bisa melihat distribusi data dari data yang bersifat kategorik. Oleh karena itu penanganan missing value pada data kategorik dapat dilakukan dengan mengisi melalui nilai modus pada data tersebut"
   ]
  },
  {
   "cell_type": "markdown",
   "metadata": {},
   "source": [
    "Mengetahui jumlah missing value setiap kolom"
   ]
  },
  {
   "cell_type": "code",
   "execution_count": 4,
   "metadata": {},
   "outputs": [
    {
     "data": {
      "text/plain": [
       "Nama Produk        0\n",
       "Kategori Produk    0\n",
       "Harga Produk       0\n",
       "Jumlah Terjual     0\n",
       "Rating             0\n",
       "dtype: int64"
      ]
     },
     "execution_count": 4,
     "metadata": {},
     "output_type": "execute_result"
    }
   ],
   "source": [
    "df.isna().sum()"
   ]
  },
  {
   "cell_type": "markdown",
   "metadata": {},
   "source": [
    "**Insight**\n",
    "- Tidak terdapat missing value dari setiap kolom pada dataset maka tidak perlu melakukan handling terhadap missing value"
   ]
  },
  {
   "cell_type": "markdown",
   "metadata": {},
   "source": [
    "**Duplicate Data**"
   ]
  },
  {
   "cell_type": "markdown",
   "metadata": {},
   "source": [
    "- Duplicate data bertujuan untuk mengetahui apakah terdapat dua atau lebih baris data yang memiliki informasi yang sama satu sama lain\n",
    "- Handling terhadap data yang berduplikat perlu dilakukan agar tidak terdapat informasi yang berganda atau lebih"
   ]
  },
  {
   "cell_type": "markdown",
   "metadata": {},
   "source": [
    "Mengetahui jumlah data yang berduplikat pada dataset"
   ]
  },
  {
   "cell_type": "code",
   "execution_count": 5,
   "metadata": {},
   "outputs": [
    {
     "data": {
      "text/plain": [
       "0"
      ]
     },
     "execution_count": 5,
     "metadata": {},
     "output_type": "execute_result"
    }
   ],
   "source": [
    "df.duplicated().sum()"
   ]
  },
  {
   "cell_type": "markdown",
   "metadata": {},
   "source": [
    "**Insight**\n",
    "- Output menunjukkan tidak terdapat data yang berduplikasi maka tidak perlu melakukan handling terhadap data yang berduplikat"
   ]
  },
  {
   "cell_type": "markdown",
   "metadata": {},
   "source": [
    "**Outliers**"
   ]
  },
  {
   "cell_type": "markdown",
   "metadata": {},
   "source": [
    "- Outliers merupakan data yang anomali pada setiap kolom numerik. Anomali dapat diartikan sebagai data yang memiliki rentang terjauh dari pusat persebaran data pada kolom numerik\n",
    "- Handling terhadap outliers bergantung dari tujuan analisis. Jika kita tidak ingin kehilangan sejumlah informasi dari dataset maka tidak perlu melakukan handling terhadap outliers."
   ]
  },
  {
   "cell_type": "code",
   "execution_count": 6,
   "metadata": {},
   "outputs": [
    {
     "data": {
      "image/png": "[encoded data removed]",
      "text/plain": [
       "<Figure size 600x400 with 1 Axes>"
      ]
     },
     "metadata": {},
     "output_type": "display_data"
    },
    {
     "data": {
      "image/png": "[encoded data removed]",
      "text/plain": [
       "<Figure size 600x400 with 1 Axes>"
      ]
     },
     "metadata": {},
     "output_type": "display_data"
    },
    {
     "data": {
      "image/png": "[encoded data removed]",
      "text/plain": [
       "<Figure size 600x400 with 1 Axes>"
      ]
     },
     "metadata": {},
     "output_type": "display_data"
    }
   ],
   "source": [
    "# Memilih kolom numerik dalam DataFrame\n",
    "numeric_columns = df.select_dtypes(include=['float64', 'int64'])\n",
    "\n",
    "# Menampilkan boxplot untuk setiap kolom numerik secara terpisah\n",
    "for column in numeric_columns.columns:\n",
    "    plt.figure(figsize=(6, 4))\n",
    "    df.boxplot(column=column)\n",
    "    plt.title('Boxplot untuk Kolom {}'.format(column))\n",
    "    plt.ylabel('Nilai')\n",
    "    plt.grid(True)\n",
    "    plt.show()"
   ]
  },
  {
   "cell_type": "markdown",
   "metadata": {},
   "source": [
    "**Insight**\n",
    "- Berdasarkan output boxplot dari setiap data numerik dalam dataset, maka seluruh kolom numerik memiliki outliers namun kita memutuskan untuk tidak melakukan handling dengan tujuan agar tidak kehilangan informasi yang diperlukan untuk proses analisa data selanjutnya."
   ]
  },
  {
   "cell_type": "markdown",
   "metadata": {},
   "source": [
    "**Data Formatting**"
   ]
  },
  {
   "cell_type": "markdown",
   "metadata": {},
   "source": [
    "- Data formatting bertujuan untuk mengubah tipe data menjadi tipe yang seharusnya sesuai dengan tujuan analisa kita\n",
    "- Data formatting dapat dilakukan dengan melihat terlebih dahulu tipe data dari setiap kolom pada dataset dan disesuaikan dengan data understanding yang telah didefinisikan sebelumnya\n",
    "- Tipe / format data dapat meliputi sebagai berikut/\n",
    "    - Data Kategorik\n",
    "        - Data kategorik merupakan data yang tidak berbentuk angka atau hanya berupa sebuah teks / string\n",
    "        - Dalam notebook, data kategorik dapat digolongkan menjadi object\n",
    "    - Data Numerik\n",
    "        - Data numerik merupakan data yang nilai nya berbentuk angka\n",
    "        - Jenis data numerik dalam Python dapat meliputi sebagai berikut\n",
    "            - float64 : bilangan pecahan\n",
    "            - int : bilangan bulat\n",
    "    - Data Tanggalan\n",
    "        - Data tanggalan merupakan data yang menunjukkan waktu (jam, detik, menit, tanggal, bulan, hingga tahun)\n",
    "        - Data tanggalan dalam Python berada dalam bentuk datetime\n"
   ]
  },
  {
   "cell_type": "markdown",
   "metadata": {},
   "source": [
    "Menampilkan kembali dataframe untuk melihat bentuk value dari setiap kolom"
   ]
  },
  {
   "cell_type": "code",
   "execution_count": 7,
   "metadata": {},
   "outputs": [
    {
     "data": {
      "text/html": [
       "<div>\n",
       "<style scoped>\n",
       "    .dataframe tbody tr th:only-of-type {\n",
       "        vertical-align: middle;\n",
       "    }\n",
       "\n",
       "    .dataframe tbody tr th {\n",
       "        vertical-align: top;\n",
       "    }\n",
       "\n",
       "    .dataframe thead th {\n",
       "        text-align: right;\n",
       "    }\n",
       "</style>\n",
       "<table border=\"1\" class=\"dataframe\">\n",
       "  <thead>\n",
       "    <tr style=\"text-align: right;\">\n",
       "      <th></th>\n",
       "      <th>Nama Produk</th>\n",
       "      <th>Kategori Produk</th>\n",
       "      <th>Harga Produk</th>\n",
       "      <th>Jumlah Terjual</th>\n",
       "      <th>Rating</th>\n",
       "    </tr>\n",
       "  </thead>\n",
       "  <tbody>\n",
       "    <tr>\n",
       "      <th>0</th>\n",
       "      <td>Monsta Shine</td>\n",
       "      <td>Car Series</td>\n",
       "      <td>145.410</td>\n",
       "      <td>8.3</td>\n",
       "      <td>4.9</td>\n",
       "    </tr>\n",
       "    <tr>\n",
       "      <th>1</th>\n",
       "      <td>Glass Cleaner and Repellent</td>\n",
       "      <td>Car Series</td>\n",
       "      <td>84.878</td>\n",
       "      <td>150.0</td>\n",
       "      <td>4.9</td>\n",
       "    </tr>\n",
       "    <tr>\n",
       "      <th>2</th>\n",
       "      <td>Interior Detailer Cleaner and Protectant</td>\n",
       "      <td>Car Series</td>\n",
       "      <td>73.760</td>\n",
       "      <td>132.0</td>\n",
       "      <td>4.9</td>\n",
       "    </tr>\n",
       "    <tr>\n",
       "      <th>3</th>\n",
       "      <td>Purfress Hanging Car Perfume</td>\n",
       "      <td>Car Series</td>\n",
       "      <td>39.717</td>\n",
       "      <td>138.0</td>\n",
       "      <td>4.9</td>\n",
       "    </tr>\n",
       "    <tr>\n",
       "      <th>4</th>\n",
       "      <td>Keychain</td>\n",
       "      <td>Official Merchandise</td>\n",
       "      <td>8.381</td>\n",
       "      <td>303.0</td>\n",
       "      <td>4.9</td>\n",
       "    </tr>\n",
       "  </tbody>\n",
       "</table>\n",
       "</div>"
      ],
      "text/plain": [
       "                                Nama Produk       Kategori Produk  \\\n",
       "0                              Monsta Shine            Car Series   \n",
       "1               Glass Cleaner and Repellent            Car Series   \n",
       "2  Interior Detailer Cleaner and Protectant            Car Series   \n",
       "3              Purfress Hanging Car Perfume            Car Series   \n",
       "4                                 Keychain   Official Merchandise   \n",
       "\n",
       "   Harga Produk  Jumlah Terjual  Rating  \n",
       "0       145.410             8.3     4.9  \n",
       "1        84.878           150.0     4.9  \n",
       "2        73.760           132.0     4.9  \n",
       "3        39.717           138.0     4.9  \n",
       "4         8.381           303.0     4.9  "
      ]
     },
     "execution_count": 7,
     "metadata": {},
     "output_type": "execute_result"
    }
   ],
   "source": [
    "df.head(5)"
   ]
  },
  {
   "cell_type": "markdown",
   "metadata": {},
   "source": [
    "Menampilkan tipe data dari setiap kolom"
   ]
  },
  {
   "cell_type": "code",
   "execution_count": 8,
   "metadata": {},
   "outputs": [
    {
     "name": "stdout",
     "output_type": "stream",
     "text": [
      "<class 'pandas.core.frame.DataFrame'>\n",
      "RangeIndex: 50 entries, 0 to 49\n",
      "Data columns (total 5 columns):\n",
      " #   Column           Non-Null Count  Dtype  \n",
      "---  ------           --------------  -----  \n",
      " 0   Nama Produk      50 non-null     object \n",
      " 1   Kategori Produk  50 non-null     object \n",
      " 2   Harga Produk     50 non-null     float64\n",
      " 3   Jumlah Terjual   50 non-null     float64\n",
      " 4   Rating           50 non-null     float64\n",
      "dtypes: float64(3), object(2)\n",
      "memory usage: 2.1+ KB\n"
     ]
    }
   ],
   "source": [
    "df.info()"
   ]
  },
  {
   "cell_type": "markdown",
   "metadata": {},
   "source": [
    "**Insight**\n",
    "- Jika dilihat berdasarkan tampilan dataframe beserta data understanding, maka tipe / format dari setiap kolom pada dataset telah memiliki format yang sesuai dan seharusnya\n",
    "- Maka kita tidak perlu melakukan pengubahan dari format data pada setiap kolom"
   ]
  },
  {
   "cell_type": "markdown",
   "metadata": {},
   "source": [
    "# **Data Exploration**"
   ]
  },
  {
   "cell_type": "markdown",
   "metadata": {},
   "source": [
    "**Distribusi Data dari Kolom Numerik**"
   ]
  },
  {
   "cell_type": "markdown",
   "metadata": {},
   "source": [
    "- Distribusi data bertujuan untuk mengetahui bagaimana persebaran data pada setiap kolom numerik. \n",
    "- Distribusi data dapat dilihat melalui visualisasi histogram\n",
    "- Melalui histogram, kita dapatn mengetahui berapa frekuensi kemunculan setiap unique value pada tiap kolom numerik serta dapat melihat bagaimana bentuk persebaran data dari tiap kolom numerik tersebut.\n",
    "- Adapun bentuk persebaran data dari kolom numerik dapat diuraikan sebagai berikut.\n",
    "    - Distribusi Normal\n",
    "        - Distribusi normal terjadi ketika persebaran data memiliki nilai mean median dan modus memiliki nilai yang sama dan terletak di tengah titik distribusi\n",
    "    - Distribusi Tidak Normal\n",
    "        - Distribusi tidak normal left skewness\n",
    "            - Distribusi left skewness menunjukkan persebaran data akan terkumpul lebih banyak di area sebelah kanan\n",
    "            - Distribusi left skewness terjadi ketika nilai mean lebih kecil dari median\n",
    "        - Distribusi tidak normal right skewness\n",
    "            - Distribusi right skewness menunjukkan persebaran data akan terkumpul lebih banyak di area sebelah kiri\n",
    "            - Distribusi left skewness terjadi ketika nilai mean lebih besar dari median\n",
    "        - Distribusi tidak normal leptokurtosis\n",
    "            - Distribusi leptokurtosis terjadi ketika bentuk kurva bersifat terdistribusi normal secara skewness\n",
    "            - Distribusi leptokurtosis terjadi ketika persebaran data menumpuk pada daerah di sekitar mean sedangkan data yang jauh dari mean memiliki frekuensi yang sedikit\n",
    "            - Distribusi leptokurtosis ditunjukkan dengan bentuk kurva yang lebih lancip\n",
    "        - Distribusi tidak normal platykurtosis\n",
    "            - Distribusi platykurtosis juga terjadi ketika bentuk kurva bersifat terdistribusi normal secara skewness\n",
    "            - Distribusi platykurtosis terjadi ketika persebaran data menumpuk pada daerah di jauh dari mean sedangkan data yang jauh dari mean memiliki frekuensi yang relatif banyak\n",
    "            - Distribusi leptokurtosis ditunjukkan dengan bentuk kurva yang lebih lebar\n",
    "- Kriteria distribusi normal berdasarkan skewness dan kurtosis dapat diuraikan sebagai berikut.\n",
    "    - Kurtosis\n",
    "        - Jika nilai kurtosis = 3, maka distribusi data dinyatakan normal secara kurtosis\n",
    "        - kurtosis < 3, maka distribusi data tidak normal dan jenis kurtosis tersebut dinamakan platy kurtosis\n",
    "        - kurtosis > 3, maka distribusi data tidak normal dan jenis kurtosis tersebut dinamakan lapto kurtosis\n",
    "    - Skewness\n",
    "        - Jika nilai skew = 0, maka distribusi data dinyatakan normal secara skew\n",
    "        - Skew < 0, maka distribusi data tidak normal dan jenis skewness tersebut dinamakan left skew\n",
    "        - Skew > 0, maka distribusi data tidak normal dan jenis skewness tersebut dinamakan right skew"
   ]
  },
  {
   "cell_type": "markdown",
   "metadata": {},
   "source": [
    "Distribusi data kolom 'Harga Produk'"
   ]
  },
  {
   "cell_type": "code",
   "execution_count": 9,
   "metadata": {},
   "outputs": [
    {
     "data": {
      "text/plain": [
       "<Axes: xlabel='Harga Produk', ylabel='Count'>"
      ]
     },
     "execution_count": 9,
     "metadata": {},
     "output_type": "execute_result"
    },
    {
     "data": {
      "image/png": "[encoded data removed]",
      "text/plain": [
       "<Figure size 640x480 with 1 Axes>"
      ]
     },
     "metadata": {},
     "output_type": "display_data"
    }
   ],
   "source": [
    "sns.histplot(data=df, x='Harga Produk', kde=True)"
   ]
  },
  {
   "cell_type": "code",
   "execution_count": 10,
   "metadata": {},
   "outputs": [
    {
     "data": {
      "text/plain": [
       "4.349411612948751"
      ]
     },
     "execution_count": 10,
     "metadata": {},
     "output_type": "execute_result"
    }
   ],
   "source": [
    "# Mengetahui nilai skewness\n",
    "df['Harga Produk'].skew()"
   ]
  },
  {
   "cell_type": "code",
   "execution_count": 11,
   "metadata": {},
   "outputs": [
    {
     "data": {
      "text/plain": [
       "23.24522549942067"
      ]
     },
     "execution_count": 11,
     "metadata": {},
     "output_type": "execute_result"
    }
   ],
   "source": [
    "# Mengetahui nilai kurtosis\n",
    "df['Harga Produk'].kurtosis()"
   ]
  },
  {
   "cell_type": "markdown",
   "metadata": {},
   "source": [
    "**Insight**\n",
    "- Pada kolom 'Harga Produk', data harga produk yang memiliki frekuensi kemunculan terbanyak jatuh pada rentang harga IDR 0 hingga IDR 200.000. Harga produk selain rentang tersebut juga memiliki frekuensi kemunculan tersendiri juga namun memiliki frekuensi yang relatif sedikit.\n",
    "- Distribusi data kolom 'Harga Produk' memiliki nilai positif, yaitu senilai 4.349411612948751. Maka menunjukkan bahwa distribusi data pada kolom tersebut bersifat right skewness\n",
    "- Sedangkan nilai kurtosis yang melebihi angka 3, yaitu senilai 23.24522549942067 menunjukkan disrtribusi data juga bersifat lapto kurtosis"
   ]
  },
  {
   "cell_type": "markdown",
   "metadata": {},
   "source": [
    "Distribusi data kolom 'Jumlah Terjual'"
   ]
  },
  {
   "cell_type": "code",
   "execution_count": 12,
   "metadata": {},
   "outputs": [
    {
     "data": {
      "text/plain": [
       "<Axes: xlabel='Jumlah Terjual', ylabel='Count'>"
      ]
     },
     "execution_count": 12,
     "metadata": {},
     "output_type": "execute_result"
    },
    {
     "data": {
      "image/png": "[encoded data removed]",
      "text/plain": [
       "<Figure size 640x480 with 1 Axes>"
      ]
     },
     "metadata": {},
     "output_type": "display_data"
    }
   ],
   "source": [
    "sns.histplot(data=df, x='Jumlah Terjual', kde=True)"
   ]
  },
  {
   "cell_type": "code",
   "execution_count": 13,
   "metadata": {},
   "outputs": [
    {
     "data": {
      "text/plain": [
       "1.605660335197626"
      ]
     },
     "execution_count": 13,
     "metadata": {},
     "output_type": "execute_result"
    }
   ],
   "source": [
    "# Mengetahui nilai skewness\n",
    "df['Jumlah Terjual'].skew()"
   ]
  },
  {
   "cell_type": "code",
   "execution_count": 14,
   "metadata": {},
   "outputs": [
    {
     "data": {
      "text/plain": [
       "1.520088221183748"
      ]
     },
     "execution_count": 14,
     "metadata": {},
     "output_type": "execute_result"
    }
   ],
   "source": [
    "# Mengetahui nilai kurtosis\n",
    "df['Jumlah Terjual'].kurtosis()"
   ]
  },
  {
   "cell_type": "markdown",
   "metadata": {},
   "source": [
    "**Insight**\n",
    "- Pada kolom 'Jumlah Terjual', jumlah penjualan produk terbanyak jatuh pada rentang 0 hingga 300 barang terjual.\n",
    "- Distribusi data kolom 'Jumlah Terjual' memiliki nilai positif, yaitu senilai 1.605660335197626. Maka menunjukkan bahwa distribusi data pada kolom tersebut bersifat right skewness\n",
    "- Sedangkan nilai kurtosis yang kurang dari angka 3, yaitu senilai 1.520088221183748 menunjukkan disrtribusi data juga bersifat platy kurtosis"
   ]
  },
  {
   "cell_type": "markdown",
   "metadata": {},
   "source": [
    "Distribusi data kolom 'Rating'"
   ]
  },
  {
   "cell_type": "code",
   "execution_count": 15,
   "metadata": {},
   "outputs": [
    {
     "data": {
      "text/plain": [
       "<Axes: xlabel='Rating', ylabel='Count'>"
      ]
     },
     "execution_count": 15,
     "metadata": {},
     "output_type": "execute_result"
    },
    {
     "data": {
      "image/png": "[encoded data removed]",
      "text/plain": [
       "<Figure size 640x480 with 1 Axes>"
      ]
     },
     "metadata": {},
     "output_type": "display_data"
    }
   ],
   "source": [
    "sns.histplot(data=df, x='Rating', kde=True)"
   ]
  },
  {
   "cell_type": "code",
   "execution_count": 16,
   "metadata": {},
   "outputs": [
    {
     "data": {
      "text/plain": [
       "-7.002960790355558"
      ]
     },
     "execution_count": 16,
     "metadata": {},
     "output_type": "execute_result"
    }
   ],
   "source": [
    "# Mengetahui nilai skewness\n",
    "df['Rating'].skew()"
   ]
  },
  {
   "cell_type": "code",
   "execution_count": 17,
   "metadata": {},
   "outputs": [
    {
     "data": {
      "text/plain": [
       "49.33809233043294"
      ]
     },
     "execution_count": 17,
     "metadata": {},
     "output_type": "execute_result"
    }
   ],
   "source": [
    "# Mengetahui nilai kurtosis\n",
    "df['Rating'].kurtosis()"
   ]
  },
  {
   "cell_type": "markdown",
   "metadata": {},
   "source": [
    "**Insight**\n",
    "- Pada kolom 'Rating', Rating produk dengan jumlah frekuensi hanya terjadi pada kisaran rentang rating 4 hingga 5. Sedangkan rating selain rentang tersebut tidak memiliki frekuensi kemunculan\n",
    "- Distribusi data kolom 'Rating' memiliki nilai negatif, yaitu senilai -7.002960790355558. Maka menunjukkan bahwa distribusi data pada kolom tersebut bersifat left skewness\n",
    "- Sedangkan nilai kurtosis yang lebih dari angka 3, yaitu senilai 49.33809233043294 menunjukkan disrtribusi data juga bersifat lapto kurtosis"
   ]
  },
  {
   "cell_type": "markdown",
   "metadata": {},
   "source": [
    "# **Data Analysis**"
   ]
  },
  {
   "cell_type": "markdown",
   "metadata": {},
   "source": [
    "**1. Performa Penjualan Produk**"
   ]
  },
  {
   "cell_type": "markdown",
   "metadata": {},
   "source": [
    "Performa Penjualan seluruh Produk "
   ]
  },
  {
   "cell_type": "markdown",
   "metadata": {},
   "source": [
    "- Performa penjualan seluruh produk yang meliputi harga setiap produk, jumlah produk yang terjual, hingga rating dapat dilihat berdasarkan ukuran pemusatan data yang meliputi mean dan median serta ukuran persebaran data yang meliputi standar deviasi melalui analisa deskriptif statistika"
   ]
  },
  {
   "cell_type": "code",
   "execution_count": 18,
   "metadata": {},
   "outputs": [
    {
     "data": {
      "text/html": [
       "<div>\n",
       "<style scoped>\n",
       "    .dataframe tbody tr th:only-of-type {\n",
       "        vertical-align: middle;\n",
       "    }\n",
       "\n",
       "    .dataframe tbody tr th {\n",
       "        vertical-align: top;\n",
       "    }\n",
       "\n",
       "    .dataframe thead th {\n",
       "        text-align: right;\n",
       "    }\n",
       "</style>\n",
       "<table border=\"1\" class=\"dataframe\">\n",
       "  <thead>\n",
       "    <tr style=\"text-align: right;\">\n",
       "      <th></th>\n",
       "      <th>Harga Produk</th>\n",
       "      <th>Jumlah Terjual</th>\n",
       "      <th>Rating</th>\n",
       "    </tr>\n",
       "  </thead>\n",
       "  <tbody>\n",
       "    <tr>\n",
       "      <th>count</th>\n",
       "      <td>50.000000</td>\n",
       "      <td>50.000000</td>\n",
       "      <td>50.000000</td>\n",
       "    </tr>\n",
       "    <tr>\n",
       "      <th>mean</th>\n",
       "      <td>84.712140</td>\n",
       "      <td>124.414000</td>\n",
       "      <td>4.786000</td>\n",
       "    </tr>\n",
       "    <tr>\n",
       "      <th>std</th>\n",
       "      <td>118.247489</td>\n",
       "      <td>198.041333</td>\n",
       "      <td>0.692823</td>\n",
       "    </tr>\n",
       "    <tr>\n",
       "      <th>min</th>\n",
       "      <td>3.387000</td>\n",
       "      <td>0.000000</td>\n",
       "      <td>0.000000</td>\n",
       "    </tr>\n",
       "    <tr>\n",
       "      <th>25%</th>\n",
       "      <td>25.090000</td>\n",
       "      <td>2.150000</td>\n",
       "      <td>4.900000</td>\n",
       "    </tr>\n",
       "    <tr>\n",
       "      <th>50%</th>\n",
       "      <td>61.608000</td>\n",
       "      <td>8.300000</td>\n",
       "      <td>4.900000</td>\n",
       "    </tr>\n",
       "    <tr>\n",
       "      <th>75%</th>\n",
       "      <td>91.499500</td>\n",
       "      <td>185.250000</td>\n",
       "      <td>4.900000</td>\n",
       "    </tr>\n",
       "    <tr>\n",
       "      <th>max</th>\n",
       "      <td>768.074000</td>\n",
       "      <td>716.000000</td>\n",
       "      <td>5.000000</td>\n",
       "    </tr>\n",
       "  </tbody>\n",
       "</table>\n",
       "</div>"
      ],
      "text/plain": [
       "       Harga Produk  Jumlah Terjual     Rating\n",
       "count     50.000000       50.000000  50.000000\n",
       "mean      84.712140      124.414000   4.786000\n",
       "std      118.247489      198.041333   0.692823\n",
       "min        3.387000        0.000000   0.000000\n",
       "25%       25.090000        2.150000   4.900000\n",
       "50%       61.608000        8.300000   4.900000\n",
       "75%       91.499500      185.250000   4.900000\n",
       "max      768.074000      716.000000   5.000000"
      ]
     },
     "execution_count": 18,
     "metadata": {},
     "output_type": "execute_result"
    }
   ],
   "source": [
    "df.describe()"
   ]
  },
  {
   "cell_type": "markdown",
   "metadata": {},
   "source": [
    "**Insight**\n",
    "- Berdasarkan output deskriptif statistika dari dataset maka dapat disimpulkan bahwa rata-rata harga dari seluruh produk berkisar pada IDR 84.712140, rata-rata produk terjual sebanyak 124 produk, dan rata-rata penilaian (rating) yang diberikan oleh customer yang telah membeli produk di Kilap Premium adalah sebesar 4.7.\n",
    "- Standar deviasi pada harga produk dan jumlah produk yang terjual masing2 senilai 118.247489 dan 198.041333. Kedua nilai standar deviasi tersebut menunjukkan angka yang cukup besar maka dapat disimpulkan bahwa bahwa data harga dari setiap produk sangat bervariasi satu sama lain. Hal tersebut dapat disebabkan karena setiap produk Kilap Premium memiliki kualitas serta spesifikasi tersendiri yang membuat harga dari setiap produk sangat beragam satu sama lainnya.\n",
    "- Nilai standar deviasi yang cukup besar dari jumlah penjualan produk, yaitu senilai 198.041333 menunjukkan jumlah produk yang terjual bervariasi dari periode ke periode. Hal tersebut dapat disebabkan oleh berbagai macam faktor, seperti fluktuasi permintaan pelanggan, efek promosi / diskon, faktor tren / persaingan pasar, dan lainnya.\n",
    "- Sedangkan nilai standar deviasi pada Rating yang hanya senilai 0.692823 menunjukkan bahwa rating yang diberikan oleh customer tidak bervariasi. Hal tersebut terbukti melalui pembahasan distribusi data yang telah kita bahas sebelumnya bahwa hanya rating 4 hingga 5 yang memiliki frekuensi kemunculan terbanyak dibandingkan dengan rating selain rentang 4-5 tersebut"
   ]
  },
  {
   "cell_type": "markdown",
   "metadata": {},
   "source": [
    "5 Produk dengan Jumlah Penjualan Terbanyak"
   ]
  },
  {
   "cell_type": "code",
   "execution_count": 19,
   "metadata": {},
   "outputs": [
    {
     "data": {
      "text/html": [
       "<div>\n",
       "<style scoped>\n",
       "    .dataframe tbody tr th:only-of-type {\n",
       "        vertical-align: middle;\n",
       "    }\n",
       "\n",
       "    .dataframe tbody tr th {\n",
       "        vertical-align: top;\n",
       "    }\n",
       "\n",
       "    .dataframe thead th {\n",
       "        text-align: right;\n",
       "    }\n",
       "</style>\n",
       "<table border=\"1\" class=\"dataframe\">\n",
       "  <thead>\n",
       "    <tr style=\"text-align: right;\">\n",
       "      <th></th>\n",
       "      <th>Nama Produk</th>\n",
       "      <th>Kategori Produk</th>\n",
       "      <th>Harga Produk</th>\n",
       "      <th>Jumlah Terjual</th>\n",
       "      <th>Rating</th>\n",
       "    </tr>\n",
       "  </thead>\n",
       "  <tbody>\n",
       "    <tr>\n",
       "      <th>24</th>\n",
       "      <td>Ultimate Dressing</td>\n",
       "      <td>Motorcycle Care</td>\n",
       "      <td>70.715</td>\n",
       "      <td>716.0</td>\n",
       "      <td>4.9</td>\n",
       "    </tr>\n",
       "    <tr>\n",
       "      <th>46</th>\n",
       "      <td>Mini Pouch</td>\n",
       "      <td>Motorcycle Care</td>\n",
       "      <td>10.658</td>\n",
       "      <td>614.0</td>\n",
       "      <td>4.9</td>\n",
       "    </tr>\n",
       "    <tr>\n",
       "      <th>27</th>\n",
       "      <td>Hyperwaz + Drying Microfiber</td>\n",
       "      <td>Motorcycle Care</td>\n",
       "      <td>91.739</td>\n",
       "      <td>606.0</td>\n",
       "      <td>4.9</td>\n",
       "    </tr>\n",
       "    <tr>\n",
       "      <th>33</th>\n",
       "      <td>Sikat Pembersih</td>\n",
       "      <td>Motorcycle Care</td>\n",
       "      <td>3.387</td>\n",
       "      <td>576.0</td>\n",
       "      <td>4.8</td>\n",
       "    </tr>\n",
       "    <tr>\n",
       "      <th>45</th>\n",
       "      <td>Paket Perawatan Motor Basic</td>\n",
       "      <td>Motorcycle Care</td>\n",
       "      <td>320.500</td>\n",
       "      <td>484.0</td>\n",
       "      <td>4.9</td>\n",
       "    </tr>\n",
       "  </tbody>\n",
       "</table>\n",
       "</div>"
      ],
      "text/plain": [
       "                     Nama Produk  Kategori Produk  Harga Produk  \\\n",
       "24             Ultimate Dressing  Motorcycle Care        70.715   \n",
       "46                    Mini Pouch  Motorcycle Care        10.658   \n",
       "27  Hyperwaz + Drying Microfiber  Motorcycle Care        91.739   \n",
       "33               Sikat Pembersih  Motorcycle Care         3.387   \n",
       "45   Paket Perawatan Motor Basic  Motorcycle Care       320.500   \n",
       "\n",
       "    Jumlah Terjual  Rating  \n",
       "24           716.0     4.9  \n",
       "46           614.0     4.9  \n",
       "27           606.0     4.9  \n",
       "33           576.0     4.8  \n",
       "45           484.0     4.9  "
      ]
     },
     "execution_count": 19,
     "metadata": {},
     "output_type": "execute_result"
    }
   ],
   "source": [
    "df_top5JumlahProduk = df.sort_values(by='Jumlah Terjual', ascending=False).head(5)\n",
    "df_top5JumlahProduk"
   ]
  },
  {
   "cell_type": "code",
   "execution_count": 42,
   "metadata": {},
   "outputs": [
    {
     "name": "stderr",
     "output_type": "stream",
     "text": [
      "C:\\Users\\milha\\AppData\\Local\\Temp\\ipykernel_25076\\3169869042.py:2: FutureWarning: \n",
      "\n",
      "The `ci` parameter is deprecated. Use `errorbar=('ci', 0)` for the same effect.\n",
      "\n",
      "  plots = sns.barplot(data=df_top5JumlahProduk,\n"
     ]
    },
    {
     "data": {
      "image/png": "[encoded data removed]",
      "text/plain": [
       "<Figure size 1000x700 with 1 Axes>"
      ]
     },
     "metadata": {},
     "output_type": "display_data"
    }
   ],
   "source": [
    "plt.figure(figsize=(10,7))\n",
    "plots = sns.barplot(data=df_top5JumlahProduk,\n",
    "            x='Nama Produk',\n",
    "            y='Jumlah Terjual',\n",
    "            estimator=np.sum,\n",
    "            ci=0)\n",
    "\n",
    "for bar in plots.patches:\n",
    "    plots.annotate(format(bar.get_height(), '.2f'), \n",
    "                   (bar.get_x() + bar.get_width() / 2, bar.get_height()),\n",
    "                   ha='center', va='center',\n",
    "                   size=8, xytext=(0, 8),\n",
    "                   textcoords='offset points')\n",
    "\n",
    "plt.xticks(rotation=45)\n",
    "plt.tight_layout()\n",
    "plt.show()"
   ]
  },
  {
   "cell_type": "markdown",
   "metadata": {},
   "source": [
    "**Insight**\n",
    "- Berdasarkan tabel beserta visualisasi boxplot yang ditampilkan maka produk Ultimate Dressing menempati produk yang paling banyak dibeli oleh customer, yaitu sebanyak 716 terjual. Kemudian diikuti dengan produk Mini Pouch sebanyak 614, Hyperwaz + Drying Microfiber sebanyak 606, Sikat Pembersih sebanyak 576, hingga Paket Perawatan Motor Basic sebanyak 484.\n",
    "- Maka rekomendasi yang dapat saya berikan adalah dengan terus meningkatkan promosi pada ke 5 produk tersebut agar jumlah pelanggan yang membeli ke 5 produk tersebut akan selalu relatif banyak hingga ke depannya. Strategi promosi yang dapat diberikan antara lain pada produk Perawatan Motor Basic yang menempati urutan ke 5 dengan jumlah penjualan produk terbanyak memiliki harga yang relatif mahal. Maka perusahaan dapat memberikan penawaran diskon pada produk tersebut sehingga produk paket perawatan motor basic dapat mengalami kenaikan jumlah customer yang membeli.\n",
    "- Secara visualisasi boxplot, Produk Mini Pouch, Hyperwaz + Drying Microfiber, dan Sikat Pembersih memiliki jumlah pembeli yang relatif tidak terlalu berbeda signifikan satu sama lain. Namun hal tersebut akan dibuktikan dengan uji statistika"
   ]
  },
  {
   "cell_type": "markdown",
   "metadata": {},
   "source": [
    "**Uji Statistik Chi Square untuk Menguji Apakah terjadi Perbedaan Signifikan dalam Jumlah Customer yang Membeli Produk Mini Pouch, Hyperwaz + Drying Microfiber, dan Sikat Pembersih**"
   ]
  },
  {
   "cell_type": "markdown",
   "metadata": {},
   "source": [
    "Uji Chi-Square untuk menguji perbedaan signifikan dalam jumlah customer yang membeli produk Mini Pouch, Hyperwaz + Drying Microfiber, dan Sikat Pembersih\n",
    "\n",
    "Pernyataan hipotesis\n",
    "- H0: Tidak terdapat perbedaan yang signifikan antar frekuensi jumlah customer yang membeli produk Mini Pouch, Hyperwaz + Drying Microfiber, dan Pembersih\n",
    "- H1: Terdapat perbedaan yang signifika antar frekuensi jumlah customer yang membeli produk Mini Pouch, Hyperwaz + Drying Microfiber, dan Pembersih"
   ]
  },
  {
   "cell_type": "code",
   "execution_count": 21,
   "metadata": {},
   "outputs": [
    {
     "name": "stdout",
     "output_type": "stream",
     "text": [
      "Chi-Square Statistic: 0.0\n",
      "P-value: 1.0\n",
      "Tidak cukup bukti untuk menolak hipotesis nol, terdapat perbedaan yang signifikan antara frekuensi produk Mini Pouch, Hyperwaz + Drying Microfiber, dan Pembersih.\n"
     ]
    }
   ],
   "source": [
    "from scipy.stats import chi2_contingency\n",
    "\n",
    "# Data jumlah terjual untuk produk Mini Pouch hingga Sikat Pembersih\n",
    "jumlah_terjual = [614, 606, 576]\n",
    "\n",
    "# Membuat dataframe untuk data jumlah terjual\n",
    "df_jumlah_terjual = pd.DataFrame(jumlah_terjual, columns=['Jumlah_Terjual'])\n",
    "\n",
    "# Melakukan uji Chi-Square\n",
    "chi2, p_value, _, _ = chi2_contingency(df_jumlah_terjual)\n",
    "\n",
    "# Menampilkan hasil uji\n",
    "print(\"Chi-Square Statistic:\", chi2)\n",
    "print(\"P-value:\", p_value)\n",
    "\n",
    "alpha = 0.05\n",
    "if p_value < alpha:\n",
    "    print('Ada bukti yang cukup untuk menolak hipotesis nol, terdapat perbedaan yang signifikan antara frekuensi produk Mini Pouch, Hyperwaz + Drying Microfiber, dan Pembersih.')\n",
    "else:\n",
    "    print('Tidak cukup bukti untuk menolak hipotesis nol, terdapat perbedaan yang signifikan antara frekuensi produk Mini Pouch, Hyperwaz + Drying Microfiber, dan Pembersih.')\n"
   ]
  },
  {
   "cell_type": "markdown",
   "metadata": {},
   "source": [
    "**Insight**\n",
    "- Berdasarkan uji Chi-Square maka nilai P-Value yang dihasilkan sebesar 1. Nilai P-Value tersebut kurang dari nilai alpha senilai 0.05. Ketika nilai P-Value kurang dari nilai alpha, maka keputusan yang akan diambil adalah menolak H0.\n",
    "- Dapat disimpulkan bahwa dengan menolak H0, maka kita menggunakan H1 sebagai hipotesis atas uji statistika kita. Hal tersebut dapat dijabarkan bahwa tidak terdapat perbedaan yang siginifikan dalam jumlah customer yang membeli ketiga produk tersebut"
   ]
  },
  {
   "cell_type": "markdown",
   "metadata": {},
   "source": [
    "Produk dengan Jumlah Penjualan yang paling Sedikit"
   ]
  },
  {
   "cell_type": "code",
   "execution_count": 22,
   "metadata": {},
   "outputs": [
    {
     "data": {
      "text/html": [
       "<div>\n",
       "<style scoped>\n",
       "    .dataframe tbody tr th:only-of-type {\n",
       "        vertical-align: middle;\n",
       "    }\n",
       "\n",
       "    .dataframe tbody tr th {\n",
       "        vertical-align: top;\n",
       "    }\n",
       "\n",
       "    .dataframe thead th {\n",
       "        text-align: right;\n",
       "    }\n",
       "</style>\n",
       "<table border=\"1\" class=\"dataframe\">\n",
       "  <thead>\n",
       "    <tr style=\"text-align: right;\">\n",
       "      <th></th>\n",
       "      <th>Nama Produk</th>\n",
       "      <th>Kategori Produk</th>\n",
       "      <th>Harga Produk</th>\n",
       "      <th>Jumlah Terjual</th>\n",
       "      <th>Rating</th>\n",
       "    </tr>\n",
       "  </thead>\n",
       "  <tbody>\n",
       "    <tr>\n",
       "      <th>49</th>\n",
       "      <td>Hampers Car Series Spesial Lebaran 2024</td>\n",
       "      <td>New Arrivals</td>\n",
       "      <td>79.999</td>\n",
       "      <td>0.0</td>\n",
       "      <td>0.0</td>\n",
       "    </tr>\n",
       "  </tbody>\n",
       "</table>\n",
       "</div>"
      ],
      "text/plain": [
       "                                Nama Produk Kategori Produk  Harga Produk  \\\n",
       "49  Hampers Car Series Spesial Lebaran 2024    New Arrivals        79.999   \n",
       "\n",
       "    Jumlah Terjual  Rating  \n",
       "49             0.0     0.0  "
      ]
     },
     "execution_count": 22,
     "metadata": {},
     "output_type": "execute_result"
    }
   ],
   "source": [
    "df3 = df[df['Jumlah Terjual']==df['Jumlah Terjual'].min()]\n",
    "df3"
   ]
  },
  {
   "cell_type": "markdown",
   "metadata": {},
   "source": [
    "**Insight**\n",
    "- Produk Hampers Car Series Spesial Lebaran 2024 merupakan produk yang belum memiliki customer yang membelinya. Hal tersebut dapat dianalisa karena produk tersebut merupakan produk yang dikategorikan sebagai produk baru (Dilihat dari kategori produk New Arrivals). \n",
    "- Produk tersebut merupakan produk yang diluncurkan dalam menyambut lebaran 2024 dan berisikan produk yang bertujuan untuk memberikan perawatan pada mobil. Maka strategi yang dapat dilakukan untuk meningkatkan penjualan produk tersebut adalah mengingat bahwa Kilap Premium memfokuskan produk skincare untuk kendaraan bermotor, maka paket produk tersebut dapat dikolaborasikan dengan barang yang juga bertujuan untuk menyediakan kelengkapan maupun perawatan untuk kendaraan bermotor."
   ]
  },
  {
   "cell_type": "markdown",
   "metadata": {},
   "source": [
    "**2. Performa Produk tiap Kategori**\n",
    "- Kilap Premium membagi produk berdasarkan 5 kategori, yaitu:\n",
    "    - Motorcycle Care\n",
    "    - Helmet Care\n",
    "    - Car Series\n",
    "    - Official Merchandise\n",
    "    - Apparel Care\n",
    "- Maka pada pembahasan ini akan dianalisa bagaimana performa penjualan dari produk di setiap kategori sehingga dapat menghasilkan sebuah insight yang bertujuan untuk meningkatkan program penjualan berdasarkan kondisi performa penjualan di setiap kategori produk"
   ]
  },
  {
   "cell_type": "markdown",
   "metadata": {},
   "source": [
    "Jumlah Produk setiap Kategori"
   ]
  },
  {
   "cell_type": "code",
   "execution_count": 23,
   "metadata": {},
   "outputs": [
    {
     "data": {
      "text/plain": [
       "Kategori Produk\n",
       "Motorcycle Care         35\n",
       "Helmet Care              6\n",
       "Car Series               4\n",
       "Official Merchandise     3\n",
       "Apparel Care             1\n",
       "New Arrivals             1\n",
       "Name: count, dtype: int64"
      ]
     },
     "execution_count": 23,
     "metadata": {},
     "output_type": "execute_result"
    }
   ],
   "source": [
    "df['Kategori Produk'].value_counts()"
   ]
  },
  {
   "cell_type": "markdown",
   "metadata": {},
   "source": [
    "Deskriptif Statistika Kategori Produk Motorcycle Care"
   ]
  },
  {
   "cell_type": "code",
   "execution_count": 24,
   "metadata": {},
   "outputs": [
    {
     "data": {
      "text/html": [
       "<div>\n",
       "<style scoped>\n",
       "    .dataframe tbody tr th:only-of-type {\n",
       "        vertical-align: middle;\n",
       "    }\n",
       "\n",
       "    .dataframe tbody tr th {\n",
       "        vertical-align: top;\n",
       "    }\n",
       "\n",
       "    .dataframe thead th {\n",
       "        text-align: right;\n",
       "    }\n",
       "</style>\n",
       "<table border=\"1\" class=\"dataframe\">\n",
       "  <thead>\n",
       "    <tr style=\"text-align: right;\">\n",
       "      <th></th>\n",
       "      <th>Harga Produk</th>\n",
       "      <th>Jumlah Terjual</th>\n",
       "      <th>Rating</th>\n",
       "    </tr>\n",
       "  </thead>\n",
       "  <tbody>\n",
       "    <tr>\n",
       "      <th>count</th>\n",
       "      <td>35.000000</td>\n",
       "      <td>35.000000</td>\n",
       "      <td>35.000000</td>\n",
       "    </tr>\n",
       "    <tr>\n",
       "      <th>mean</th>\n",
       "      <td>90.149457</td>\n",
       "      <td>147.174286</td>\n",
       "      <td>4.874286</td>\n",
       "    </tr>\n",
       "    <tr>\n",
       "      <th>std</th>\n",
       "      <td>138.908055</td>\n",
       "      <td>225.912485</td>\n",
       "      <td>0.061083</td>\n",
       "    </tr>\n",
       "    <tr>\n",
       "      <th>min</th>\n",
       "      <td>3.387000</td>\n",
       "      <td>1.100000</td>\n",
       "      <td>4.700000</td>\n",
       "    </tr>\n",
       "    <tr>\n",
       "      <th>25%</th>\n",
       "      <td>18.854000</td>\n",
       "      <td>2.200000</td>\n",
       "      <td>4.900000</td>\n",
       "    </tr>\n",
       "    <tr>\n",
       "      <th>50%</th>\n",
       "      <td>58.589000</td>\n",
       "      <td>8.300000</td>\n",
       "      <td>4.900000</td>\n",
       "    </tr>\n",
       "    <tr>\n",
       "      <th>75%</th>\n",
       "      <td>91.260000</td>\n",
       "      <td>303.500000</td>\n",
       "      <td>4.900000</td>\n",
       "    </tr>\n",
       "    <tr>\n",
       "      <th>max</th>\n",
       "      <td>768.074000</td>\n",
       "      <td>716.000000</td>\n",
       "      <td>5.000000</td>\n",
       "    </tr>\n",
       "  </tbody>\n",
       "</table>\n",
       "</div>"
      ],
      "text/plain": [
       "       Harga Produk  Jumlah Terjual     Rating\n",
       "count     35.000000       35.000000  35.000000\n",
       "mean      90.149457      147.174286   4.874286\n",
       "std      138.908055      225.912485   0.061083\n",
       "min        3.387000        1.100000   4.700000\n",
       "25%       18.854000        2.200000   4.900000\n",
       "50%       58.589000        8.300000   4.900000\n",
       "75%       91.260000      303.500000   4.900000\n",
       "max      768.074000      716.000000   5.000000"
      ]
     },
     "execution_count": 24,
     "metadata": {},
     "output_type": "execute_result"
    }
   ],
   "source": [
    "df_NamaProduk_MotorcycleCare = df[df['Kategori Produk']=='Motorcycle Care'].describe()\n",
    "df_NamaProduk_MotorcycleCare"
   ]
  },
  {
   "cell_type": "markdown",
   "metadata": {},
   "source": [
    "Deskriptif Statistika Kategori Produk Helmet Care"
   ]
  },
  {
   "cell_type": "code",
   "execution_count": 25,
   "metadata": {},
   "outputs": [
    {
     "data": {
      "text/html": [
       "<div>\n",
       "<style scoped>\n",
       "    .dataframe tbody tr th:only-of-type {\n",
       "        vertical-align: middle;\n",
       "    }\n",
       "\n",
       "    .dataframe tbody tr th {\n",
       "        vertical-align: top;\n",
       "    }\n",
       "\n",
       "    .dataframe thead th {\n",
       "        text-align: right;\n",
       "    }\n",
       "</style>\n",
       "<table border=\"1\" class=\"dataframe\">\n",
       "  <thead>\n",
       "    <tr style=\"text-align: right;\">\n",
       "      <th></th>\n",
       "      <th>Harga Produk</th>\n",
       "      <th>Jumlah Terjual</th>\n",
       "      <th>Rating</th>\n",
       "    </tr>\n",
       "  </thead>\n",
       "  <tbody>\n",
       "    <tr>\n",
       "      <th>count</th>\n",
       "      <td>6.000000</td>\n",
       "      <td>6.000000</td>\n",
       "      <td>6.000000e+00</td>\n",
       "    </tr>\n",
       "    <tr>\n",
       "      <th>mean</th>\n",
       "      <td>78.629833</td>\n",
       "      <td>3.550000</td>\n",
       "      <td>4.900000e+00</td>\n",
       "    </tr>\n",
       "    <tr>\n",
       "      <th>std</th>\n",
       "      <td>46.761915</td>\n",
       "      <td>3.254996</td>\n",
       "      <td>9.729507e-16</td>\n",
       "    </tr>\n",
       "    <tr>\n",
       "      <th>min</th>\n",
       "      <td>25.090000</td>\n",
       "      <td>1.500000</td>\n",
       "      <td>4.900000e+00</td>\n",
       "    </tr>\n",
       "    <tr>\n",
       "      <th>25%</th>\n",
       "      <td>53.664000</td>\n",
       "      <td>1.700000</td>\n",
       "      <td>4.900000e+00</td>\n",
       "    </tr>\n",
       "    <tr>\n",
       "      <th>50%</th>\n",
       "      <td>66.285500</td>\n",
       "      <td>2.350000</td>\n",
       "      <td>4.900000e+00</td>\n",
       "    </tr>\n",
       "    <tr>\n",
       "      <th>75%</th>\n",
       "      <td>97.384750</td>\n",
       "      <td>3.300000</td>\n",
       "      <td>4.900000e+00</td>\n",
       "    </tr>\n",
       "    <tr>\n",
       "      <th>max</th>\n",
       "      <td>156.910000</td>\n",
       "      <td>10.000000</td>\n",
       "      <td>4.900000e+00</td>\n",
       "    </tr>\n",
       "  </tbody>\n",
       "</table>\n",
       "</div>"
      ],
      "text/plain": [
       "       Harga Produk  Jumlah Terjual        Rating\n",
       "count      6.000000        6.000000  6.000000e+00\n",
       "mean      78.629833        3.550000  4.900000e+00\n",
       "std       46.761915        3.254996  9.729507e-16\n",
       "min       25.090000        1.500000  4.900000e+00\n",
       "25%       53.664000        1.700000  4.900000e+00\n",
       "50%       66.285500        2.350000  4.900000e+00\n",
       "75%       97.384750        3.300000  4.900000e+00\n",
       "max      156.910000       10.000000  4.900000e+00"
      ]
     },
     "execution_count": 25,
     "metadata": {},
     "output_type": "execute_result"
    }
   ],
   "source": [
    "df_NamaProduk_HelmetCare = df[df['Kategori Produk']=='Helmet Care'].describe()\n",
    "df_NamaProduk_HelmetCare"
   ]
  },
  {
   "cell_type": "markdown",
   "metadata": {},
   "source": [
    "Deskriptif Statistika Kategori Produk Car Series"
   ]
  },
  {
   "cell_type": "code",
   "execution_count": 26,
   "metadata": {},
   "outputs": [
    {
     "data": {
      "text/html": [
       "<div>\n",
       "<style scoped>\n",
       "    .dataframe tbody tr th:only-of-type {\n",
       "        vertical-align: middle;\n",
       "    }\n",
       "\n",
       "    .dataframe tbody tr th {\n",
       "        vertical-align: top;\n",
       "    }\n",
       "\n",
       "    .dataframe thead th {\n",
       "        text-align: right;\n",
       "    }\n",
       "</style>\n",
       "<table border=\"1\" class=\"dataframe\">\n",
       "  <thead>\n",
       "    <tr style=\"text-align: right;\">\n",
       "      <th></th>\n",
       "      <th>Harga Produk</th>\n",
       "      <th>Jumlah Terjual</th>\n",
       "      <th>Rating</th>\n",
       "    </tr>\n",
       "  </thead>\n",
       "  <tbody>\n",
       "    <tr>\n",
       "      <th>count</th>\n",
       "      <td>4.000000</td>\n",
       "      <td>4.000000</td>\n",
       "      <td>4.0</td>\n",
       "    </tr>\n",
       "    <tr>\n",
       "      <th>mean</th>\n",
       "      <td>85.941250</td>\n",
       "      <td>107.075000</td>\n",
       "      <td>4.9</td>\n",
       "    </tr>\n",
       "    <tr>\n",
       "      <th>std</th>\n",
       "      <td>44.055748</td>\n",
       "      <td>66.273845</td>\n",
       "      <td>0.0</td>\n",
       "    </tr>\n",
       "    <tr>\n",
       "      <th>min</th>\n",
       "      <td>39.717000</td>\n",
       "      <td>8.300000</td>\n",
       "      <td>4.9</td>\n",
       "    </tr>\n",
       "    <tr>\n",
       "      <th>25%</th>\n",
       "      <td>65.249250</td>\n",
       "      <td>101.075000</td>\n",
       "      <td>4.9</td>\n",
       "    </tr>\n",
       "    <tr>\n",
       "      <th>50%</th>\n",
       "      <td>79.319000</td>\n",
       "      <td>135.000000</td>\n",
       "      <td>4.9</td>\n",
       "    </tr>\n",
       "    <tr>\n",
       "      <th>75%</th>\n",
       "      <td>100.011000</td>\n",
       "      <td>141.000000</td>\n",
       "      <td>4.9</td>\n",
       "    </tr>\n",
       "    <tr>\n",
       "      <th>max</th>\n",
       "      <td>145.410000</td>\n",
       "      <td>150.000000</td>\n",
       "      <td>4.9</td>\n",
       "    </tr>\n",
       "  </tbody>\n",
       "</table>\n",
       "</div>"
      ],
      "text/plain": [
       "       Harga Produk  Jumlah Terjual  Rating\n",
       "count      4.000000        4.000000     4.0\n",
       "mean      85.941250      107.075000     4.9\n",
       "std       44.055748       66.273845     0.0\n",
       "min       39.717000        8.300000     4.9\n",
       "25%       65.249250      101.075000     4.9\n",
       "50%       79.319000      135.000000     4.9\n",
       "75%      100.011000      141.000000     4.9\n",
       "max      145.410000      150.000000     4.9"
      ]
     },
     "execution_count": 26,
     "metadata": {},
     "output_type": "execute_result"
    }
   ],
   "source": [
    "df_NamaProduk_CarSeries = df[df['Kategori Produk']=='Car Series'].describe()\n",
    "df_NamaProduk_CarSeries"
   ]
  },
  {
   "cell_type": "markdown",
   "metadata": {},
   "source": [
    "Deskriptif Statistika Kategori Produk Official Merchandise"
   ]
  },
  {
   "cell_type": "code",
   "execution_count": 27,
   "metadata": {},
   "outputs": [
    {
     "data": {
      "text/html": [
       "<div>\n",
       "<style scoped>\n",
       "    .dataframe tbody tr th:only-of-type {\n",
       "        vertical-align: middle;\n",
       "    }\n",
       "\n",
       "    .dataframe tbody tr th {\n",
       "        vertical-align: top;\n",
       "    }\n",
       "\n",
       "    .dataframe thead th {\n",
       "        text-align: right;\n",
       "    }\n",
       "</style>\n",
       "<table border=\"1\" class=\"dataframe\">\n",
       "  <thead>\n",
       "    <tr style=\"text-align: right;\">\n",
       "      <th></th>\n",
       "      <th>Harga Produk</th>\n",
       "      <th>Jumlah Terjual</th>\n",
       "      <th>Rating</th>\n",
       "    </tr>\n",
       "  </thead>\n",
       "  <tbody>\n",
       "    <tr>\n",
       "      <th>count</th>\n",
       "      <td>3.000000</td>\n",
       "      <td>3.000000</td>\n",
       "      <td>3.000000</td>\n",
       "    </tr>\n",
       "    <tr>\n",
       "      <th>mean</th>\n",
       "      <td>42.942667</td>\n",
       "      <td>141.000000</td>\n",
       "      <td>4.933333</td>\n",
       "    </tr>\n",
       "    <tr>\n",
       "      <th>std</th>\n",
       "      <td>49.982422</td>\n",
       "      <td>149.622859</td>\n",
       "      <td>0.057735</td>\n",
       "    </tr>\n",
       "    <tr>\n",
       "      <th>min</th>\n",
       "      <td>8.381000</td>\n",
       "      <td>8.000000</td>\n",
       "      <td>4.900000</td>\n",
       "    </tr>\n",
       "    <tr>\n",
       "      <th>25%</th>\n",
       "      <td>14.287500</td>\n",
       "      <td>60.000000</td>\n",
       "      <td>4.900000</td>\n",
       "    </tr>\n",
       "    <tr>\n",
       "      <th>50%</th>\n",
       "      <td>20.194000</td>\n",
       "      <td>112.000000</td>\n",
       "      <td>4.900000</td>\n",
       "    </tr>\n",
       "    <tr>\n",
       "      <th>75%</th>\n",
       "      <td>60.223500</td>\n",
       "      <td>207.500000</td>\n",
       "      <td>4.950000</td>\n",
       "    </tr>\n",
       "    <tr>\n",
       "      <th>max</th>\n",
       "      <td>100.253000</td>\n",
       "      <td>303.000000</td>\n",
       "      <td>5.000000</td>\n",
       "    </tr>\n",
       "  </tbody>\n",
       "</table>\n",
       "</div>"
      ],
      "text/plain": [
       "       Harga Produk  Jumlah Terjual    Rating\n",
       "count      3.000000        3.000000  3.000000\n",
       "mean      42.942667      141.000000  4.933333\n",
       "std       49.982422      149.622859  0.057735\n",
       "min        8.381000        8.000000  4.900000\n",
       "25%       14.287500       60.000000  4.900000\n",
       "50%       20.194000      112.000000  4.900000\n",
       "75%       60.223500      207.500000  4.950000\n",
       "max      100.253000      303.000000  5.000000"
      ]
     },
     "execution_count": 27,
     "metadata": {},
     "output_type": "execute_result"
    }
   ],
   "source": [
    "df_NamaProduk_OfficialMerchandise = df[df['Kategori Produk']=='Official Merchandise'].describe()\n",
    "df_NamaProduk_OfficialMerchandise"
   ]
  },
  {
   "cell_type": "markdown",
   "metadata": {},
   "source": [
    "**Insight**\n",
    "- Berdasarkan output deskriptif statistika dari setiap kategori produk, maka dapat disimpulkan bahwa kategori produk Motorcycle Care merupakan kategori produk yang memiliki rata-rata serta jumlah pembelian produk terbanyak dibandingkan dengan kategori produk lainnya, yaitu sebesar rata-rata sebesar 147 customer yang membeli produk kategori Motorcycle Care.\n",
    "- Hal tersebut beralasan karena kategori Motorcycle Care merupakan kategori produk yang menawarkan perlengkapan serta perawatan untuk kendaraan bermotor serta menjadi kategori produk utama dari Kilap Premium.\n",
    "- Kategori Produk Motorcycle Care merupakan kategori yang memiliki jumlah produk terbanyak dibandingkan dengan kategori lainnya, yaitu sejumlah 35 produk yang disediakan oleh Kilap Premium pada kategori Motorcycle Care\n",
    "- Maka rekomendasi yang dapat diberikan adalah dengan meningkatkan pemasaran dari kategori produk tersebut secara waktu ke waktu, terutama pada saat ini sedang berada pada musim menjelang lebaran. Maka perusahaan dapat memanfaatkan momentum musim menjelang lebaran untuk meningkatkan promosi serta marketing yang bertujuan untuk menawarkan produk terhadap kendaraan masyarakat yang hendak bermudik.\n",
    "- Kategori Helmet Care merupakan kategori produk yang memiliki rata-rata pembeli paling sedikit dibandingkan dengan kategori lainnya. Helmet Care merupakan produk yang menawarkan penjualan helm untuk pengendara motor. Rekomendasi yang dapat saya berikan adalah dapat menggabungkan serta mengkolaborasikan produk Helmet Care terhadap produk dari kategori Motorcycle Care. Menurut saya, baik itu kategori Helmet Care maupun Motorcycle Care merupakan produk yang menawarkan sesama untuk pengguna motor walaupun berbeda dari segi bentuk produk yang ditawarkan.\n",
    "- Alternatif lain yang dapat saya berikan adalah dapat menambah jumlah produk pada kategori Helmet Care, Car Series, Official Mercandise, hingga Apparel yang sebelumnya ketiga kategori tersebut memiliki jumlah produk yang sangat sedikit dibandingkan dengan jumlah produk pada kategori Motorcycle Care."
   ]
  },
  {
   "cell_type": "markdown",
   "metadata": {},
   "source": [
    "**3. Analisa Korelasi**\n"
   ]
  },
  {
   "cell_type": "markdown",
   "metadata": {},
   "source": [
    "- Dataset penjualan produk Kilap Premium berisikan sejumlah fitur yang menyusun didalamnya seperti Nama Produk, Harga Produk, Jumlah Terjual, dan Rating. Analisa korelasi merupakan sebuah analisa yang bertujuan untuk mengetahui hubungan yang terjadi diantara fitur-fitur pada dataset tersebut.\n",
    "- Tujuan lain dari analisa korelasi terhadap Perusahaan adalah untuk mengetahui apakah terdapat fitur penjualan yang mempengaruhi fitur lainnya sehingga Perusahaan dapat menentukkan strategi Perusahaan berdasarkan fitur yang saling berkorelasi tersebut.\n"
   ]
  },
  {
   "cell_type": "markdown",
   "metadata": {},
   "source": [
    "- **Definisi Korelasi**\n",
    "    - Korelasi mengacu pada seberapa erat hubungan antara dua variabel atau fitur dalam sebuah dataset.\n",
    "    - Korelasi hanya dapat dihitung untuk variabel numerik.\n",
    "    - Korelasi melibatkan dua variabel; tidak lebih dan tidak kurang.\n",
    "    - Korelasi diukur dalam rentang -1 hingga 1, dengan interpretasi sebagai berikut:\n",
    "        - Nilai korelasi yang mendekati 1 atau -1 menunjukkan hubungan yang kuat antara kedua variabel.\n",
    "        - Nilai korelasi yang mendekati 0 menunjukkan hubungan yang lemah antara kedua variabel.\n",
    "        - Korelasi positif menunjukkan hubungan searah antara kedua variabel, di mana peningkatan nilai di satu variabel cenderung diikuti oleh peningkatan nilai di variabel lainnya, dan sebaliknya.\n",
    "        - Korelasi negatif menunjukkan hubungan berlawanan antara kedua variabel, di mana peningkatan nilai di satu variabel cenderung diikuti oleh penurunan nilai di variabel lainnya, dan sebaliknya.\n",
    "    - Penggolongan kekuatan korelasi berdasarkan rentang nilai korelasi adalah sebagai berikut:\n",
    "        - Rentang 0 - 0.19: Korelasi sangat lemah.\n",
    "        - Rentang 0.2 - 0.39: Korelasi lemah.\n",
    "        - Rentang 0.4 - 0.59: Korelasi sedang.\n",
    "        - Rentang 0.6 - 0.79: Korelasi kuat.\n",
    "        - Rentang 0.8 - 1: Korelasi sangat kuat."
   ]
  },
  {
   "cell_type": "markdown",
   "metadata": {},
   "source": [
    "Mengetahui nilai korelasi antar fitur numerik"
   ]
  },
  {
   "cell_type": "code",
   "execution_count": 28,
   "metadata": {},
   "outputs": [
    {
     "data": {
      "text/html": [
       "<div>\n",
       "<style scoped>\n",
       "    .dataframe tbody tr th:only-of-type {\n",
       "        vertical-align: middle;\n",
       "    }\n",
       "\n",
       "    .dataframe tbody tr th {\n",
       "        vertical-align: top;\n",
       "    }\n",
       "\n",
       "    .dataframe thead th {\n",
       "        text-align: right;\n",
       "    }\n",
       "</style>\n",
       "<table border=\"1\" class=\"dataframe\">\n",
       "  <thead>\n",
       "    <tr style=\"text-align: right;\">\n",
       "      <th></th>\n",
       "      <th>Harga Produk</th>\n",
       "      <th>Jumlah Terjual</th>\n",
       "      <th>Rating</th>\n",
       "    </tr>\n",
       "  </thead>\n",
       "  <tbody>\n",
       "    <tr>\n",
       "      <th>Harga Produk</th>\n",
       "      <td>1.000000</td>\n",
       "      <td>-0.003149</td>\n",
       "      <td>0.012853</td>\n",
       "    </tr>\n",
       "    <tr>\n",
       "      <th>Jumlah Terjual</th>\n",
       "      <td>-0.003149</td>\n",
       "      <td>1.000000</td>\n",
       "      <td>0.081241</td>\n",
       "    </tr>\n",
       "    <tr>\n",
       "      <th>Rating</th>\n",
       "      <td>0.012853</td>\n",
       "      <td>0.081241</td>\n",
       "      <td>1.000000</td>\n",
       "    </tr>\n",
       "  </tbody>\n",
       "</table>\n",
       "</div>"
      ],
      "text/plain": [
       "                Harga Produk  Jumlah Terjual    Rating\n",
       "Harga Produk        1.000000       -0.003149  0.012853\n",
       "Jumlah Terjual     -0.003149        1.000000  0.081241\n",
       "Rating              0.012853        0.081241  1.000000"
      ]
     },
     "execution_count": 28,
     "metadata": {},
     "output_type": "execute_result"
    }
   ],
   "source": [
    "df.corr(numeric_only=True)"
   ]
  },
  {
   "cell_type": "markdown",
   "metadata": {},
   "source": [
    "Menampilkan visualisasi korelasi dalam bentuk heatmap"
   ]
  },
  {
   "cell_type": "code",
   "execution_count": 29,
   "metadata": {},
   "outputs": [],
   "source": [
    "matrix = np.triu(df.corr(numeric_only=True))"
   ]
  },
  {
   "cell_type": "code",
   "execution_count": 30,
   "metadata": {},
   "outputs": [
    {
     "data": {
      "text/plain": [
       "Text(0.5, 1.0, 'Correlation of Numeric Values')"
      ]
     },
     "execution_count": 30,
     "metadata": {},
     "output_type": "execute_result"
    },
    {
     "data": {
      "image/png": "[encoded data removed]",
      "text/plain": [
       "<Figure size 640x480 with 2 Axes>"
      ]
     },
     "metadata": {},
     "output_type": "display_data"
    }
   ],
   "source": [
    "sns.heatmap(data=df.corr(numeric_only=True),\n",
    "            annot=True,\n",
    "            cmap='Blues',\n",
    "            mask=matrix\n",
    "            )\n",
    "\n",
    "plt.title('Correlation of Numeric Values')"
   ]
  },
  {
   "cell_type": "markdown",
   "metadata": {},
   "source": [
    "**Insight**\n",
    "- Berdasarkan tabel maupun heatmap nilai korelasi antar fitur numerik pada dataset, maka dapat disimpulkan bahwa seluruh nilai korelasi antar fitur memiliki nilai yang sangat mendekati 0. \n",
    "- Hal tersebut mengindikasikan bahwa tidak terjadi hubungan yang kuat antar setiap fitur numerik pada dataset.\n",
    "- Hubungan korelasi yang sangat lemah antar fitur numerik dalam dataset menunjukkan bahwa variabel penjualan seperti harga produk, jumlah pembeli produk, hingga rating merupakan variabel yang independen serta tidak memiliki pengaruh satu sama lain.\n",
    "- Seperti contoh, jika harga produk sedang tinggi / mahal maka tidak akan berpengaruh terhadap jumlah customer membeli produk tersebut. "
   ]
  },
  {
   "cell_type": "markdown",
   "metadata": {},
   "source": [
    "# **Analisa Kompetitor (Kilap Premium vs Mizu Shield)**"
   ]
  },
  {
   "cell_type": "markdown",
   "metadata": {},
   "source": [
    "# **DATA PENJUALAN PRODUK MIZU SHIELD**"
   ]
  },
  {
   "cell_type": "markdown",
   "metadata": {},
   "source": [
    "## **Latar Belakang**"
   ]
  },
  {
   "cell_type": "markdown",
   "metadata": {},
   "source": [
    "- Mizu Shield merupakan Perusahaan FMCG yang menyediakan produk untuk perawatan mobil / motor. Mizu Shield didirikan pada tahun 2016 dan berlokasi di Bandung, Jawa Barat.\n",
    "- Mizu Shield menyediakan berbagai kategori produk yang dapat diuraikan sebagai berikut.\n",
    "    - Perawatan Doff\n",
    "    - Lap Microfiber\n",
    "    - Perawatan Glossy\n",
    "    - Pembersih\n",
    "    - Busa Cuci\n",
    "    - Applicator Pad\n",
    "    - Penghitam dan Semir Ban"
   ]
  },
  {
   "cell_type": "markdown",
   "metadata": {},
   "source": [
    "# **Data Understanding**"
   ]
  },
  {
   "cell_type": "markdown",
   "metadata": {},
   "source": [
    "| **Nama Kolom** | **Penjelasan**                                |\n",
    "| ---------------- | -------------------------------------------------------- |\n",
    "| Nama Produk       | Judul dari setiap produk Mizu Shield                |\n",
    "| Kategori Produk     | Mengkategorikan produk berdasarkan jenisnya                     |\n",
    "| Harga Produk   | Menunjukkan nilai harga dari setiap produk dalam satuan IDR                 |\n",
    "| Jumlah Terjual     | Menampilkan jumlah pelanggan yang telah membeli setiap produk |\n",
    "| Rating | Penilaian yang diberikan oleh pelanggan yang telah membeli setiap produk             |\n"
   ]
  },
  {
   "cell_type": "markdown",
   "metadata": {},
   "source": [
    "# **Import Dataset**"
   ]
  },
  {
   "cell_type": "code",
   "execution_count": 31,
   "metadata": {},
   "outputs": [
    {
     "data": {
      "text/html": [
       "<div>\n",
       "<style scoped>\n",
       "    .dataframe tbody tr th:only-of-type {\n",
       "        vertical-align: middle;\n",
       "    }\n",
       "\n",
       "    .dataframe tbody tr th {\n",
       "        vertical-align: top;\n",
       "    }\n",
       "\n",
       "    .dataframe thead th {\n",
       "        text-align: right;\n",
       "    }\n",
       "</style>\n",
       "<table border=\"1\" class=\"dataframe\">\n",
       "  <thead>\n",
       "    <tr style=\"text-align: right;\">\n",
       "      <th></th>\n",
       "      <th>Nama Produk</th>\n",
       "      <th>Kategori Produk</th>\n",
       "      <th>Harga Produk</th>\n",
       "      <th>Jumlah Terjual</th>\n",
       "      <th>Rating</th>\n",
       "    </tr>\n",
       "  </thead>\n",
       "  <tbody>\n",
       "    <tr>\n",
       "      <th>0</th>\n",
       "      <td>Sarung Tangan Microfiber Buat Cuci Motor</td>\n",
       "      <td>Lap Microfiber</td>\n",
       "      <td>36.432</td>\n",
       "      <td>1.0</td>\n",
       "      <td>4.9</td>\n",
       "    </tr>\n",
       "    <tr>\n",
       "      <th>1</th>\n",
       "      <td>Kain Lap Microfiber Detailing Premium Quality 35x35 cm 320 GSM by Mizu Shield</td>\n",
       "      <td>Lap Microfiber</td>\n",
       "      <td>8.384</td>\n",
       "      <td>2.0</td>\n",
       "      <td>4.9</td>\n",
       "    </tr>\n",
       "    <tr>\n",
       "      <th>2</th>\n",
       "      <td>Drying Microfiber Dual Side Mizu Shield Microfiber Pengering Kendaraan Motor Mobil</td>\n",
       "      <td>Lap Microfiber</td>\n",
       "      <td>10.800</td>\n",
       "      <td>1.1</td>\n",
       "      <td>4.9</td>\n",
       "    </tr>\n",
       "    <tr>\n",
       "      <th>3</th>\n",
       "      <td>Lap Microfiber Edgelesss 40x40 Tebal 400 GSM Dual Side Tanpa Tepi Kain Pengering Motor Mobil</td>\n",
       "      <td>Lap Microfiber</td>\n",
       "      <td>21.285</td>\n",
       "      <td>1.5</td>\n",
       "      <td>4.9</td>\n",
       "    </tr>\n",
       "    <tr>\n",
       "      <th>4</th>\n",
       "      <td>Busa Cuci Motor Mobil Lembut dan Anti Baret</td>\n",
       "      <td>Lap Microfiber</td>\n",
       "      <td>15.000</td>\n",
       "      <td>1.2</td>\n",
       "      <td>4.9</td>\n",
       "    </tr>\n",
       "  </tbody>\n",
       "</table>\n",
       "</div>"
      ],
      "text/plain": [
       "                                                                                    Nama Produk  \\\n",
       "0                                                      Sarung Tangan Microfiber Buat Cuci Motor   \n",
       "1                 Kain Lap Microfiber Detailing Premium Quality 35x35 cm 320 GSM by Mizu Shield   \n",
       "2            Drying Microfiber Dual Side Mizu Shield Microfiber Pengering Kendaraan Motor Mobil   \n",
       "3  Lap Microfiber Edgelesss 40x40 Tebal 400 GSM Dual Side Tanpa Tepi Kain Pengering Motor Mobil   \n",
       "4                                                   Busa Cuci Motor Mobil Lembut dan Anti Baret   \n",
       "\n",
       "  Kategori Produk  Harga Produk  Jumlah Terjual  Rating  \n",
       "0  Lap Microfiber        36.432             1.0     4.9  \n",
       "1  Lap Microfiber         8.384             2.0     4.9  \n",
       "2  Lap Microfiber        10.800             1.1     4.9  \n",
       "3  Lap Microfiber        21.285             1.5     4.9  \n",
       "4  Lap Microfiber        15.000             1.2     4.9  "
      ]
     },
     "execution_count": 31,
     "metadata": {},
     "output_type": "execute_result"
    }
   ],
   "source": [
    "df2 = pd.read_csv('Data Penjualan Mizu Shield.csv', delimiter=';')\n",
    "df2.head()"
   ]
  },
  {
   "cell_type": "markdown",
   "metadata": {},
   "source": [
    "Sumber : Shopee\n"
   ]
  },
  {
   "cell_type": "markdown",
   "metadata": {},
   "source": [
    "# **Data Cleaning**"
   ]
  },
  {
   "cell_type": "markdown",
   "metadata": {},
   "source": [
    "**Value Exploration**"
   ]
  },
  {
   "cell_type": "code",
   "execution_count": 32,
   "metadata": {},
   "outputs": [
    {
     "data": {
      "text/html": [
       "<div>\n",
       "<style scoped>\n",
       "    .dataframe tbody tr th:only-of-type {\n",
       "        vertical-align: middle;\n",
       "    }\n",
       "\n",
       "    .dataframe tbody tr th {\n",
       "        vertical-align: top;\n",
       "    }\n",
       "\n",
       "    .dataframe thead th {\n",
       "        text-align: right;\n",
       "    }\n",
       "</style>\n",
       "<table border=\"1\" class=\"dataframe\">\n",
       "  <thead>\n",
       "    <tr style=\"text-align: right;\">\n",
       "      <th></th>\n",
       "      <th>Columns</th>\n",
       "      <th>Unique Count</th>\n",
       "      <th>Unique</th>\n",
       "    </tr>\n",
       "  </thead>\n",
       "  <tbody>\n",
       "    <tr>\n",
       "      <th>0</th>\n",
       "      <td>Nama Produk</td>\n",
       "      <td>48</td>\n",
       "      <td>[Sarung Tangan Microfiber Buat Cuci Motor, Kain Lap Microfiber Detailing Premium Quality 35x35 cm 320 GSM by Mizu Shield, Drying Microfiber Dual Side Mizu Shield Microfiber Pengering Kendaraan Motor Mobil, Lap Microfiber Edgelesss 40x40 Tebal 400 GSM Dual Side Tanpa Tepi Kain Pengering Motor Mobil, Busa Cuci Motor Mobil Lembut dan Anti Baret, Lap Microfiber 40x40 Tebal 320 GSM Warna Abu / Cool Grey Kain Mikrofiber Bukan Honaga, Edgeless Microfiber 40x40 Tebal 320 GSM Drying Towel, Kain Lap Microfiber 40x40 400 GSM Tipe Fleece Super Soft for Drying Towel Motor / Mobil, Pengkilap Body Motor / Mobil Gloss Pengkilat Glossy, Shampoo Cuci Motor / Mobil  , Pengkilap Body Motor Glossy , Ceramic Wax perawatan Pengkilap Motor Mobil Glossy, Shampoo Cuci Motor Ph Balance dengan Extract Carnauba Wax, Nano Ceramic Coating Mobil / Motor Glossy , Paket Komplit Pengkilap Motor , Pengkilap Body Motor Doff + Coating Motor Doff, Paket Perawatan Pembersih Motor Doff, Perawatan Motor Doff Permanen V12 Matte , V12 Matte Coating, Perawatan Cat Doff Motor Semua Warna Doff/Matte, Perawatan Motor Doff / Matte Protection Premium Quality, Matte Wash, Pengkilat Body Motor Doff, Pengkilap Body Motor Doff / Mobil Doff / Matte / Doff Specialist, Mizu Shield V12 Ceramic Coating for Matte Paint Protection with Super Dof, Shampoo Motor Doff, Coating Perawatan Motor Cat Doff Sachet, Matte Snow Wash, Perawatan Cat Doff Motor Pengkilap Helm Warna Matte, Paket Perawatan Cat Doff Motor Pengkilap Shampoo Motor Doff / Matte Wash Ph Balance, Perawatan Cat Doff Motor / Mobil Premium Matte Protection, Pengkilap Body Motor Doff Waterbased V7 Matte Detailed, Shampoo Cat Doff Pembersih Motor Doff Matte Snow Wash Shampoo, Pembersih Aspal Mobil , Pembersih Jamur Kaca, Engine Degreaser, Pembersih Jamur Kaca Mobil Glass Polish 60ml, Pembersih Jamur Kaca Mobil Rain Drop Protection Glass, Pembersih Interior Mobil Jok Plafon Tanpa Bilas Cleaner , Cairan Pengusir Tikus Alami Anti Tikus Mobil Rumah 250ml, Busa Cuci Motor / Mobil tebal 4 cm , Busa Cuci Motor Mobil Microfiber Lembut dan Anti Baret, Spons Cuci Motor / Mobil , Aplicator Pad Busa Poles Wax Mobil Motor , Aplikator Pad Busa Wax Poles Motor Mobil, Busa Aplikator Pad Alat Poles Body Mobil Motor, Penghitam Body Kasar Motor Semi Permanen By Mizu Shield, Penghitam Body Motor Semir Ban Mobil Anti Air Efek Daun Talas]</td>\n",
       "    </tr>\n",
       "    <tr>\n",
       "      <th>1</th>\n",
       "      <td>Kategori Produk</td>\n",
       "      <td>7</td>\n",
       "      <td>[Lap Microfiber, Perawatan Glossy, Perawatan Doff, Pembersih, Busa Cuci, Applicator Pad, Penghitam dan Semir Ban]</td>\n",
       "    </tr>\n",
       "    <tr>\n",
       "      <th>2</th>\n",
       "      <td>Harga Produk</td>\n",
       "      <td>41</td>\n",
       "      <td>[36.432, 8.384, 10.8, 21.285, 15.0, 9.9, 15.5, 29.5, 56.0, 25.2, 85.0, 11.0, 2.75, 145.0, 166.6, 105.0, 82.0, 107.0, 59.0, 58.0, 26.5, 44.0, 60.75, 54.0, 9.5, 24.0, 88.0, 98.0, 5.5, 12.75, 19.0, 65.0, 12.5, 14.9, 2.037, 1.99, 1.5, 7.8, 4.5, 26.0, 24.5]</td>\n",
       "    </tr>\n",
       "    <tr>\n",
       "      <th>3</th>\n",
       "      <td>Jumlah Terjual</td>\n",
       "      <td>43</td>\n",
       "      <td>[1.0, 2.0, 1.1, 1.5, 1.2, 964.0, 379.0, 300.0, 298.0, 92.0, 599.0, 113.0, 508.0, 21.0, 88.0, 1.9, 1.7, 395.0, 146.0, 150.0, 255.0, 426.0, 4.9, 137.0, 8.1, 3.6, 232.0, 251.0, 74.0, 341.0, 141.0, 584.0, 578.0, 215.0, 39.0, 145.0, 98.0, 203.0, 775.0, 10.0, 706.0, 3.2, 569.0]</td>\n",
       "    </tr>\n",
       "    <tr>\n",
       "      <th>4</th>\n",
       "      <td>Rating</td>\n",
       "      <td>3</td>\n",
       "      <td>[4.9, 5.0, 4.8]</td>\n",
       "    </tr>\n",
       "  </tbody>\n",
       "</table>\n",
       "</div>"
      ],
      "text/plain": [
       "           Columns  Unique Count  \\\n",
       "0      Nama Produk            48   \n",
       "1  Kategori Produk             7   \n",
       "2     Harga Produk            41   \n",
       "3   Jumlah Terjual            43   \n",
       "4           Rating             3   \n",
       "\n",
       "                                                                                                                                                                                                                                                                                                                                                                                                                                                                                                                                                                                                                                                                                                                                                                                                                                                                                                                                                                                                                                                                                                                                                                                                                                                                                                                                                                                                                                                                                                                                                                                                                                                                                                                                                                                                                                                                                                                                                                                                                                                                                                                                                                                                                                                                                                                                                                                                                                                Unique  \n",
       "0  [Sarung Tangan Microfiber Buat Cuci Motor, Kain Lap Microfiber Detailing Premium Quality 35x35 cm 320 GSM by Mizu Shield, Drying Microfiber Dual Side Mizu Shield Microfiber Pengering Kendaraan Motor Mobil, Lap Microfiber Edgelesss 40x40 Tebal 400 GSM Dual Side Tanpa Tepi Kain Pengering Motor Mobil, Busa Cuci Motor Mobil Lembut dan Anti Baret, Lap Microfiber 40x40 Tebal 320 GSM Warna Abu / Cool Grey Kain Mikrofiber Bukan Honaga, Edgeless Microfiber 40x40 Tebal 320 GSM Drying Towel, Kain Lap Microfiber 40x40 400 GSM Tipe Fleece Super Soft for Drying Towel Motor / Mobil, Pengkilap Body Motor / Mobil Gloss Pengkilat Glossy, Shampoo Cuci Motor / Mobil  , Pengkilap Body Motor Glossy , Ceramic Wax perawatan Pengkilap Motor Mobil Glossy, Shampoo Cuci Motor Ph Balance dengan Extract Carnauba Wax, Nano Ceramic Coating Mobil / Motor Glossy , Paket Komplit Pengkilap Motor , Pengkilap Body Motor Doff + Coating Motor Doff, Paket Perawatan Pembersih Motor Doff, Perawatan Motor Doff Permanen V12 Matte , V12 Matte Coating, Perawatan Cat Doff Motor Semua Warna Doff/Matte, Perawatan Motor Doff / Matte Protection Premium Quality, Matte Wash, Pengkilat Body Motor Doff, Pengkilap Body Motor Doff / Mobil Doff / Matte / Doff Specialist, Mizu Shield V12 Ceramic Coating for Matte Paint Protection with Super Dof, Shampoo Motor Doff, Coating Perawatan Motor Cat Doff Sachet, Matte Snow Wash, Perawatan Cat Doff Motor Pengkilap Helm Warna Matte, Paket Perawatan Cat Doff Motor Pengkilap Shampoo Motor Doff / Matte Wash Ph Balance, Perawatan Cat Doff Motor / Mobil Premium Matte Protection, Pengkilap Body Motor Doff Waterbased V7 Matte Detailed, Shampoo Cat Doff Pembersih Motor Doff Matte Snow Wash Shampoo, Pembersih Aspal Mobil , Pembersih Jamur Kaca, Engine Degreaser, Pembersih Jamur Kaca Mobil Glass Polish 60ml, Pembersih Jamur Kaca Mobil Rain Drop Protection Glass, Pembersih Interior Mobil Jok Plafon Tanpa Bilas Cleaner , Cairan Pengusir Tikus Alami Anti Tikus Mobil Rumah 250ml, Busa Cuci Motor / Mobil tebal 4 cm , Busa Cuci Motor Mobil Microfiber Lembut dan Anti Baret, Spons Cuci Motor / Mobil , Aplicator Pad Busa Poles Wax Mobil Motor , Aplikator Pad Busa Wax Poles Motor Mobil, Busa Aplikator Pad Alat Poles Body Mobil Motor, Penghitam Body Kasar Motor Semi Permanen By Mizu Shield, Penghitam Body Motor Semir Ban Mobil Anti Air Efek Daun Talas]  \n",
       "1                                                                                                                                                                                                                                                                                                                                                                                                                                                                                                                                                                                                                                                                                                                                                                                                                                                                                                                                                                                                                                                                                                                                                                                                                                                                                                                                                                                                                                                                                                                                                                                                                                                                                                                                                                                                                                                                                                                                                                                                                                                                                                                                                                                                                                                                                                                                    [Lap Microfiber, Perawatan Glossy, Perawatan Doff, Pembersih, Busa Cuci, Applicator Pad, Penghitam dan Semir Ban]  \n",
       "2                                                                                                                                                                                                                                                                                                                                                                                                                                                                                                                                                                                                                                                                                                                                                                                                                                                                                                                                                                                                                                                                                                                                                                                                                                                                                                                                                                                                                                                                                                                                                                                                                                                                                                                                                                                                                                                                                                                                                                                                                                                                                                                                                                                         [36.432, 8.384, 10.8, 21.285, 15.0, 9.9, 15.5, 29.5, 56.0, 25.2, 85.0, 11.0, 2.75, 145.0, 166.6, 105.0, 82.0, 107.0, 59.0, 58.0, 26.5, 44.0, 60.75, 54.0, 9.5, 24.0, 88.0, 98.0, 5.5, 12.75, 19.0, 65.0, 12.5, 14.9, 2.037, 1.99, 1.5, 7.8, 4.5, 26.0, 24.5]  \n",
       "3                                                                                                                                                                                                                                                                                                                                                                                                                                                                                                                                                                                                                                                                                                                                                                                                                                                                                                                                                                                                                                                                                                                                                                                                                                                                                                                                                                                                                                                                                                                                                                                                                                                                                                                                                                                                                                                                                                                                                                                                                                                                                                                                                                     [1.0, 2.0, 1.1, 1.5, 1.2, 964.0, 379.0, 300.0, 298.0, 92.0, 599.0, 113.0, 508.0, 21.0, 88.0, 1.9, 1.7, 395.0, 146.0, 150.0, 255.0, 426.0, 4.9, 137.0, 8.1, 3.6, 232.0, 251.0, 74.0, 341.0, 141.0, 584.0, 578.0, 215.0, 39.0, 145.0, 98.0, 203.0, 775.0, 10.0, 706.0, 3.2, 569.0]  \n",
       "4                                                                                                                                                                                                                                                                                                                                                                                                                                                                                                                                                                                                                                                                                                                                                                                                                                                                                                                                                                                                                                                                                                                                                                                                                                                                                                                                                                                                                                                                                                                                                                                                                                                                                                                                                                                                                                                                                                                                                                                                                                                                                                                                                                                                                                                                                                                                                                                                                                      [4.9, 5.0, 4.8]  "
      ]
     },
     "execution_count": 32,
     "metadata": {},
     "output_type": "execute_result"
    }
   ],
   "source": [
    "pd.set_option('display.max_rows', None)\n",
    "pd.set_option('display.max_columns', None)\n",
    "pd.set_option('display.max_colwidth', None) \n",
    "\n",
    "def unique_data(df2):\n",
    "    \n",
    "    data_unique = pd.DataFrame()\n",
    "    data_unique['Columns'] = df2.columns\n",
    "    data_unique['Unique Count'] = [df2[col].nunique() for col in (df2.columns)]\n",
    "    data_unique['Unique'] = [df2[col].unique() for col in (df2.columns)] \n",
    "    return data_unique\n",
    "\n",
    "unique_data(df2)"
   ]
  },
  {
   "cell_type": "markdown",
   "metadata": {},
   "source": [
    "Insight\n",
    "- Seluruh value dari setiap kolom sudah sesuai dengan data understanding maka tidak perlu dilakukan handling terhadap value setiap kolom"
   ]
  },
  {
   "cell_type": "markdown",
   "metadata": {},
   "source": [
    "**Missing Value**"
   ]
  },
  {
   "cell_type": "code",
   "execution_count": 33,
   "metadata": {},
   "outputs": [
    {
     "data": {
      "text/plain": [
       "Nama Produk        0\n",
       "Kategori Produk    0\n",
       "Harga Produk       0\n",
       "Jumlah Terjual     0\n",
       "Rating             0\n",
       "dtype: int64"
      ]
     },
     "execution_count": 33,
     "metadata": {},
     "output_type": "execute_result"
    }
   ],
   "source": [
    "df2.isna().sum()"
   ]
  },
  {
   "cell_type": "markdown",
   "metadata": {},
   "source": [
    "Insight\n",
    "- Tidak terdapat missing value dari seluruh kolom pada dataset"
   ]
  },
  {
   "cell_type": "markdown",
   "metadata": {},
   "source": [
    "**Duplicate Data**"
   ]
  },
  {
   "cell_type": "code",
   "execution_count": 34,
   "metadata": {},
   "outputs": [
    {
     "data": {
      "text/plain": [
       "0"
      ]
     },
     "execution_count": 34,
     "metadata": {},
     "output_type": "execute_result"
    }
   ],
   "source": [
    "df2.duplicated().sum()"
   ]
  },
  {
   "cell_type": "markdown",
   "metadata": {},
   "source": [
    "Insight\n",
    "- Tidak terdapat data yang berduplikat dalam dataset"
   ]
  },
  {
   "cell_type": "markdown",
   "metadata": {},
   "source": [
    "**Data Formatting**"
   ]
  },
  {
   "cell_type": "code",
   "execution_count": 35,
   "metadata": {},
   "outputs": [
    {
     "name": "stdout",
     "output_type": "stream",
     "text": [
      "<class 'pandas.core.frame.DataFrame'>\n",
      "RangeIndex: 49 entries, 0 to 48\n",
      "Data columns (total 5 columns):\n",
      " #   Column           Non-Null Count  Dtype  \n",
      "---  ------           --------------  -----  \n",
      " 0   Nama Produk      49 non-null     object \n",
      " 1   Kategori Produk  49 non-null     object \n",
      " 2   Harga Produk     49 non-null     float64\n",
      " 3   Jumlah Terjual   49 non-null     float64\n",
      " 4   Rating           49 non-null     float64\n",
      "dtypes: float64(3), object(2)\n",
      "memory usage: 2.0+ KB\n"
     ]
    }
   ],
   "source": [
    "df2.info()"
   ]
  },
  {
   "cell_type": "markdown",
   "metadata": {},
   "source": [
    "Insight\n",
    "- Setiap kolom sudah memiliki format yang sesuai dengan data understanding / value exploration "
   ]
  },
  {
   "cell_type": "markdown",
   "metadata": {},
   "source": [
    "**Outliers**"
   ]
  },
  {
   "cell_type": "code",
   "execution_count": 36,
   "metadata": {},
   "outputs": [
    {
     "data": {
      "image/png": "[encoded data removed]",
      "text/plain": [
       "<Figure size 600x400 with 1 Axes>"
      ]
     },
     "metadata": {},
     "output_type": "display_data"
    },
    {
     "data": {
      "image/png": "[encoded data removed]",
      "text/plain": [
       "<Figure size 600x400 with 1 Axes>"
      ]
     },
     "metadata": {},
     "output_type": "display_data"
    },
    {
     "data": {
      "image/png": "[encoded data removed]",
      "text/plain": [
       "<Figure size 600x400 with 1 Axes>"
      ]
     },
     "metadata": {},
     "output_type": "display_data"
    }
   ],
   "source": [
    "# Memilih kolom numerik dalam DataFrame\n",
    "numeric_columns = df2.select_dtypes(include=['float64', 'int64'])\n",
    "\n",
    "# Menampilkan boxplot untuk setiap kolom numerik secara terpisah\n",
    "for column in numeric_columns.columns:\n",
    "    plt.figure(figsize=(6, 4))\n",
    "    df2.boxplot(column=column)\n",
    "    plt.title('Boxplot untuk Kolom {}'.format(column))\n",
    "    plt.ylabel('Nilai')\n",
    "    plt.grid(True)\n",
    "    plt.show()"
   ]
  },
  {
   "cell_type": "markdown",
   "metadata": {},
   "source": [
    "Insight\n",
    "- Setiap kolom numerik pada dataset yang dimiliki oleh kolom 'Harga Produk', 'Jumlah terjual', dan 'Rating' masing-masing memiliki nilai yang bersifat anomali / outliers"
   ]
  },
  {
   "cell_type": "markdown",
   "metadata": {},
   "source": [
    "# **Analisa Kompetitor Melalui Deskriptif Statistika**"
   ]
  },
  {
   "cell_type": "markdown",
   "metadata": {},
   "source": [
    "Deskriptif Statistika Seluruh Produk Mizu Shield"
   ]
  },
  {
   "cell_type": "code",
   "execution_count": 37,
   "metadata": {},
   "outputs": [
    {
     "data": {
      "text/html": [
       "<div>\n",
       "<style scoped>\n",
       "    .dataframe tbody tr th:only-of-type {\n",
       "        vertical-align: middle;\n",
       "    }\n",
       "\n",
       "    .dataframe tbody tr th {\n",
       "        vertical-align: top;\n",
       "    }\n",
       "\n",
       "    .dataframe thead th {\n",
       "        text-align: right;\n",
       "    }\n",
       "</style>\n",
       "<table border=\"1\" class=\"dataframe\">\n",
       "  <thead>\n",
       "    <tr style=\"text-align: right;\">\n",
       "      <th></th>\n",
       "      <th>Harga Produk</th>\n",
       "      <th>Jumlah Terjual</th>\n",
       "      <th>Rating</th>\n",
       "    </tr>\n",
       "  </thead>\n",
       "  <tbody>\n",
       "    <tr>\n",
       "      <th>count</th>\n",
       "      <td>49.000000</td>\n",
       "      <td>49.000000</td>\n",
       "      <td>49.000000</td>\n",
       "    </tr>\n",
       "    <tr>\n",
       "      <th>mean</th>\n",
       "      <td>39.688980</td>\n",
       "      <td>201.585714</td>\n",
       "      <td>4.897959</td>\n",
       "    </tr>\n",
       "    <tr>\n",
       "      <th>std</th>\n",
       "      <td>39.236023</td>\n",
       "      <td>243.596152</td>\n",
       "      <td>0.043252</td>\n",
       "    </tr>\n",
       "    <tr>\n",
       "      <th>min</th>\n",
       "      <td>1.500000</td>\n",
       "      <td>1.000000</td>\n",
       "      <td>4.800000</td>\n",
       "    </tr>\n",
       "    <tr>\n",
       "      <th>25%</th>\n",
       "      <td>11.000000</td>\n",
       "      <td>3.200000</td>\n",
       "      <td>4.900000</td>\n",
       "    </tr>\n",
       "    <tr>\n",
       "      <th>50%</th>\n",
       "      <td>24.500000</td>\n",
       "      <td>113.000000</td>\n",
       "      <td>4.900000</td>\n",
       "    </tr>\n",
       "    <tr>\n",
       "      <th>75%</th>\n",
       "      <td>58.000000</td>\n",
       "      <td>300.000000</td>\n",
       "      <td>4.900000</td>\n",
       "    </tr>\n",
       "    <tr>\n",
       "      <th>max</th>\n",
       "      <td>166.600000</td>\n",
       "      <td>964.000000</td>\n",
       "      <td>5.000000</td>\n",
       "    </tr>\n",
       "  </tbody>\n",
       "</table>\n",
       "</div>"
      ],
      "text/plain": [
       "       Harga Produk  Jumlah Terjual     Rating\n",
       "count     49.000000       49.000000  49.000000\n",
       "mean      39.688980      201.585714   4.897959\n",
       "std       39.236023      243.596152   0.043252\n",
       "min        1.500000        1.000000   4.800000\n",
       "25%       11.000000        3.200000   4.900000\n",
       "50%       24.500000      113.000000   4.900000\n",
       "75%       58.000000      300.000000   4.900000\n",
       "max      166.600000      964.000000   5.000000"
      ]
     },
     "execution_count": 37,
     "metadata": {},
     "output_type": "execute_result"
    }
   ],
   "source": [
    "df2.describe()"
   ]
  },
  {
   "cell_type": "markdown",
   "metadata": {},
   "source": [
    "Deskriptif Statistika Seluruh Produk Kilap Premium"
   ]
  },
  {
   "cell_type": "code",
   "execution_count": 38,
   "metadata": {},
   "outputs": [
    {
     "data": {
      "text/html": [
       "<div>\n",
       "<style scoped>\n",
       "    .dataframe tbody tr th:only-of-type {\n",
       "        vertical-align: middle;\n",
       "    }\n",
       "\n",
       "    .dataframe tbody tr th {\n",
       "        vertical-align: top;\n",
       "    }\n",
       "\n",
       "    .dataframe thead th {\n",
       "        text-align: right;\n",
       "    }\n",
       "</style>\n",
       "<table border=\"1\" class=\"dataframe\">\n",
       "  <thead>\n",
       "    <tr style=\"text-align: right;\">\n",
       "      <th></th>\n",
       "      <th>Harga Produk</th>\n",
       "      <th>Jumlah Terjual</th>\n",
       "      <th>Rating</th>\n",
       "    </tr>\n",
       "  </thead>\n",
       "  <tbody>\n",
       "    <tr>\n",
       "      <th>count</th>\n",
       "      <td>50.000000</td>\n",
       "      <td>50.000000</td>\n",
       "      <td>50.000000</td>\n",
       "    </tr>\n",
       "    <tr>\n",
       "      <th>mean</th>\n",
       "      <td>84.712140</td>\n",
       "      <td>124.414000</td>\n",
       "      <td>4.786000</td>\n",
       "    </tr>\n",
       "    <tr>\n",
       "      <th>std</th>\n",
       "      <td>118.247489</td>\n",
       "      <td>198.041333</td>\n",
       "      <td>0.692823</td>\n",
       "    </tr>\n",
       "    <tr>\n",
       "      <th>min</th>\n",
       "      <td>3.387000</td>\n",
       "      <td>0.000000</td>\n",
       "      <td>0.000000</td>\n",
       "    </tr>\n",
       "    <tr>\n",
       "      <th>25%</th>\n",
       "      <td>25.090000</td>\n",
       "      <td>2.150000</td>\n",
       "      <td>4.900000</td>\n",
       "    </tr>\n",
       "    <tr>\n",
       "      <th>50%</th>\n",
       "      <td>61.608000</td>\n",
       "      <td>8.300000</td>\n",
       "      <td>4.900000</td>\n",
       "    </tr>\n",
       "    <tr>\n",
       "      <th>75%</th>\n",
       "      <td>91.499500</td>\n",
       "      <td>185.250000</td>\n",
       "      <td>4.900000</td>\n",
       "    </tr>\n",
       "    <tr>\n",
       "      <th>max</th>\n",
       "      <td>768.074000</td>\n",
       "      <td>716.000000</td>\n",
       "      <td>5.000000</td>\n",
       "    </tr>\n",
       "  </tbody>\n",
       "</table>\n",
       "</div>"
      ],
      "text/plain": [
       "       Harga Produk  Jumlah Terjual     Rating\n",
       "count     50.000000       50.000000  50.000000\n",
       "mean      84.712140      124.414000   4.786000\n",
       "std      118.247489      198.041333   0.692823\n",
       "min        3.387000        0.000000   0.000000\n",
       "25%       25.090000        2.150000   4.900000\n",
       "50%       61.608000        8.300000   4.900000\n",
       "75%       91.499500      185.250000   4.900000\n",
       "max      768.074000      716.000000   5.000000"
      ]
     },
     "execution_count": 38,
     "metadata": {},
     "output_type": "execute_result"
    }
   ],
   "source": [
    "df.describe()"
   ]
  },
  {
   "cell_type": "markdown",
   "metadata": {},
   "source": [
    "**Insight**\n",
    "\n",
    "**1. Perbandingan Harga Produk**\n",
    "\n",
    "- Berdasarkan perbandingan dari harga keseluruhan produk pada masing-masing Perusahaan Kilap Premium dan Mizu Shield, maka pada output deskriptif statistika dari setiap Perusahaan menunjukkan bahwa rata-rata harga produk dari Kilap Premium lebih tinggi, yaitu senilai 84.712140 dibandingkan dengan rata-rata harga produk dari Mizu Shield yang bernilai 39.688980.\n",
    "- Rata-rata harga produk dari Kilap Premium yang lebih tinggi dari Mizu Shield disebabkan karena kualitas serta paket yang disediakan oleh Kilap Premium lebih tinggi namun jika harga terlalu mahal maka dapat berpotensi menyebabkan tidak terjangkau nya masyarakat dalam membeli produk dari Kilap Premium,\n",
    "- Rekomendasi yang dapat saya berikan adalah Perusahaan dapat mempertimbangkan untuk menerapkan harga produk yang lebih fleksibel agar dapat menarik segmen pasar yang lebih luas, misal dapat memberikan diskon bagi pelanggan loyal atau pada saat hari-hari besar seperti pada saat musim menjelang lebaran.\n",
    "\n",
    "**2. Perbandingan Jumlah Terjual**\n",
    "\n",
    "- Meskipun rata-rata harga produk dari Kilap Premium lebih tinggi dari Mizu Shield namun rata-rata jumlah produk yang dibeli oleh customer pada Kilap Premium lebih rendah dengan sejumlah 124.414000 dibandingkan dengan rata-rata jumlah produk yang dibeli customer pada Mizu Shield, yaitu senilai 201.585714.\n",
    "- Hal tersebut mungkin dapat disebabkan oleh strategi pemasaran Kilap Premium yang kurang efektif dibandingkan dengan Mizu Shield sehingga menyebabkan jangkauan segmen pasar Mizu Shield lebih luas dibandingkan dengan Kilap Premium.\n",
    "- Rekomendasi yang dapat diberikan adalah dengan meningkatkan strategi pemasaran, seperti meningkatkan kualitas serta inovasi dari produk Kilap Premium. Seperti contoh yang telah kita bahas sebelumnya pada analisa performa produk setiap kategori Kilap Premium, bahwa produk pada jumlah produk dari masing-masing kategori Apparel, Helmet Care, dan Official Merchandise yang cenderung sedikit dapat disolusikan dengan menambah jumlah produk dengan memperhatikan kualitas dari setiap kategori tersebut.\n",
    "\n",
    "**3. Perbandingan Rating**\n",
    "\n",
    "- Meskipun rata-rata rating dari kedua Perusahaan tidak berbeda signifikan, namun rata-rata penilaian yang diberikan customer terhadap produk dari Mizu Shield cenderung lebih tinggi senilai 4.897959 dari Kilap Premium dengan nilai rating sebesar 4.786000.\n",
    "- Sama halnya seperti pada pembahasan mengenai perbandingan jumlah produk yang terjual sebelumnya. Hal tersebut mungkin terjadi karena perbedaan kualitas yang disediakan oleh setiap produk dari setiap Perusahaan.\n",
    "\n",
    "\n"
   ]
  }
 ],
 "metadata": {
  "kernelspec": {
   "display_name": "base",
   "language": "python",
   "name": "python3"
  },
  "language_info": {
   "codemirror_mode": {
    "name": "ipython",
    "version": 3
   },
   "file_extension": ".py",
   "mimetype": "text/x-python",
   "name": "python",
   "nbconvert_exporter": "python",
   "pygments_lexer": "ipython3",
   "version": "3.11.5"
  }
 },
 "nbformat": 4,
 "nbformat_minor": 2
}
